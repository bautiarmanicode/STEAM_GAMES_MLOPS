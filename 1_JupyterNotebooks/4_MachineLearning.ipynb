{
 "cells": [
  {
   "cell_type": "markdown",
   "metadata": {},
   "source": [
    "## Machine Learning item x item\n",
    "### def **recomendacion_juego( *`user`* )**:\n",
    "Ingresando el id de producto, deberíamos recibir una lista con 5 juegos para dicho usuario.\n"
   ]
  },
  {
   "cell_type": "markdown",
   "metadata": {},
   "source": [
    "___"
   ]
  },
  {
   "cell_type": "code",
   "execution_count": 3,
   "metadata": {},
   "outputs": [],
   "source": [
    "#install surprise\n",
    "#%pip install surprise"
   ]
  },
  {
   "cell_type": "code",
   "execution_count": 4,
   "metadata": {},
   "outputs": [],
   "source": [
    "import pandas as pd\n",
    "import numpy as np\n",
    "import scipy as sp\n",
    "from sklearn.metrics.pairwise import cosine_similarity\n",
    "import operator\n",
    "import pyarrow as pa\n",
    "import pyarrow.parquet as pq\n",
    "import os\n",
    "\n",
    "from surprise import Dataset\n",
    "from surprise import Reader\n",
    "from surprise.model_selection import train_test_split\n",
    "from surprise import SVD\n",
    "import pickle"
   ]
  },
  {
   "cell_type": "code",
   "execution_count": 5,
   "metadata": {},
   "outputs": [],
   "source": [
    "# Se cargan los archivos con los que se trabajará:\n",
    "df_steam_games = pd.read_parquet('../0 Dataset/1.1_steam_games_LISTO.parquet')\n",
    "df_user_reviews = pd.read_parquet('../0 Dataset/1.3_user_review_sentiment.parquet')\n",
    "df_user_items = pd.read_parquet('../0 Dataset/1.2_users_items_LISTO.parquet')"
   ]
  },
  {
   "cell_type": "markdown",
   "metadata": {},
   "source": [
    "Según la información proporcionada en la documentación del modelo 📄, se necesitan los siguientes parámetros para su funcionamiento:\n",
    "\n",
    "* Usuario 👤\n",
    "* Ítem 🎮\n",
    "* Calificación ⭐"
   ]
  },
  {
   "cell_type": "code",
   "execution_count": 6,
   "metadata": {},
   "outputs": [
    {
     "data": {
      "text/plain": [
       "(57397, 3)"
      ]
     },
     "execution_count": 6,
     "metadata": {},
     "output_type": "execute_result"
    }
   ],
   "source": [
    "# Filtramos las variables en el dataframe\n",
    "df_RS = df_user_reviews[['user_id', 'reviews_item_id', 'sentiment_analysis']]\n",
    "df_RS.shape"
   ]
  },
  {
   "cell_type": "markdown",
   "metadata": {},
   "source": [
    "El modelo que emplearemos es el \"Descomposición en Valores Singulares\" (SVD). Este es un algoritmo de factorización matricial que se utiliza para predecir calificaciones ⭐ o preferencias de los usuarios 👤 para ciertos elementos 🎮, basándose en calificaciones previas 📊."
   ]
  },
  {
   "cell_type": "code",
   "execution_count": 7,
   "metadata": {},
   "outputs": [],
   "source": [
    "# Se instancia la clase \"Reader()\" de Surprise:\n",
    "reader = Reader(rating_scale = (0,2))\n",
    "\n",
    "# Se carga la data en la clase respectiva:\n",
    "data = Dataset.load_from_df(df_RS, reader)\n",
    "\n",
    "# Se separan los datos en los grupos de entrenamiento y prueba:\n",
    "trainset, testset = train_test_split(data, test_size = 0.20)\n",
    "\n",
    "# Instanciamos el modelo:\n",
    "model = SVD()\n",
    "\n",
    "# Entrenamos:\n",
    "model.fit(trainset)\n",
    "\n",
    "# Se predice sobre el grupo de prueba\n",
    "predictions = model.test(testset)"
   ]
  },
  {
   "cell_type": "code",
   "execution_count": 8,
   "metadata": {},
   "outputs": [
    {
     "name": "stdout",
     "output_type": "stream",
     "text": [
      "RMSE: 0.5832\n"
     ]
    },
    {
     "data": {
      "text/plain": [
       "0.5832134657273986"
      ]
     },
     "execution_count": 8,
     "metadata": {},
     "output_type": "execute_result"
    }
   ],
   "source": [
    "from surprise import accuracy\n",
    "\n",
    "accuracy.rmse(predictions)"
   ]
  },
  {
   "cell_type": "markdown",
   "metadata": {},
   "source": [
    "Dado que la escala de la columna de análisis de sentimiento varía de 0 a 2, un valor de RMSE cercano a 1 podría indicar cierta dificultad del modelo para evaluar correctamente los ítems.\n",
    "\n",
    "Por este motivo, llevamos a cabo una exploración exhaustiva de los mejores hiperparámetros del modelo utilizando la técnica de búsqueda en grilla y validación cruzada. Nuestro objetivo es identificar aquellos hiperparámetros que minimicen el error al máximo posible. 🧐🔍✨"
   ]
  },
  {
   "cell_type": "code",
   "execution_count": 9,
   "metadata": {},
   "outputs": [
    {
     "name": "stdout",
     "output_type": "stream",
     "text": [
      "Mejores hiperparámetros: {'n_factors': 5, 'n_epochs': 20, 'lr_all': 0.002, 'reg_all': 0.2}\n",
      "Mejor Score: 0.5793409886717916\n",
      "\n"
     ]
    }
   ],
   "source": [
    "from surprise.model_selection import GridSearchCV\n",
    "\n",
    "param_grid = {'n_factors': [5,50,100],'n_epochs': [5, 10,20], 'lr_all': [0.001, 0.002, 0.005],\n",
    "              'reg_all': [0.002, 0.02, 0.2]}\n",
    "\n",
    "gs = GridSearchCV(SVD, param_grid, measures=['rmse'], cv=3, n_jobs = -1)\n",
    "\n",
    "# Se carga la data en la clase respectiva:\n",
    "data = Dataset.load_from_df(df_RS, reader)\n",
    "\n",
    "# Se entrena el modelo sobre el grupo de entrenamiento:\n",
    "gs.fit(data)\n",
    "\n",
    "print(\"Mejores hiperparámetros: \"+str(gs.best_params['rmse']))\n",
    "print(\"Mejor Score: \"+str(gs.best_score['rmse'])+'\\n')"
   ]
  },
  {
   "cell_type": "markdown",
   "metadata": {},
   "source": [
    "Finalmente, configuramos el modelo con los hiperparámetros óptimos que obtuvimos previamente. 🛠️🔧"
   ]
  },
  {
   "cell_type": "code",
   "execution_count": 10,
   "metadata": {},
   "outputs": [
    {
     "name": "stdout",
     "output_type": "stream",
     "text": [
      "RMSE: 0.5755\n"
     ]
    },
    {
     "data": {
      "text/plain": [
       "0.5755277912261267"
      ]
     },
     "execution_count": 10,
     "metadata": {},
     "output_type": "execute_result"
    }
   ],
   "source": [
    "# Instanciamos el modelo:\n",
    "model1 = SVD(n_factors = 5, n_epochs = 20, lr_all = 0.002, reg_all = 0.2)\n",
    "\n",
    "# Entrenamos:\n",
    "model1.fit(trainset)\n",
    "\n",
    "# Se predice sobre el grupo de prueba\n",
    "predictions1 = model1.test(testset)\n",
    "\n",
    "# Evaluamos:\n",
    "accuracy.rmse(predictions1)"
   ]
  },
  {
   "cell_type": "markdown",
   "metadata": {},
   "source": [
    "Guardamos el modelo entrenado en un archivo pkl:"
   ]
  },
  {
   "cell_type": "code",
   "execution_count": 11,
   "metadata": {},
   "outputs": [],
   "source": [
    "# Ruta de la carpeta donde deseas guardar el archivo\n",
    "folder_path = \"../0 Dataset\"\n",
    "\n",
    "# Nombre del archivo\n",
    "file_name = \"RS_model.pkl\"\n",
    "\n",
    "# Ruta completa al archivo\n",
    "file_path = os.path.join(folder_path, file_name)\n",
    "\n",
    "# Guardar el modelo en la carpeta especificada\n",
    "with open(file_path, 'wb') as file:\n",
    "    pickle.dump(model1, file)"
   ]
  },
  {
   "cell_type": "code",
   "execution_count": 12,
   "metadata": {},
   "outputs": [],
   "source": [
    "with open('RS_model.pkl', 'wb') as file:\n",
    "    pickle.dump(model1, file)"
   ]
  },
  {
   "cell_type": "markdown",
   "metadata": {},
   "source": [
    "## Endpoint API:"
   ]
  },
  {
   "cell_type": "markdown",
   "metadata": {},
   "source": [
    "A continuación se crea la función que permitirá obtener, a partir de un id de usuario, una lista con 5 recomendaciones de juegos para el mismo:"
   ]
  },
  {
   "cell_type": "code",
   "execution_count": 13,
   "metadata": {},
   "outputs": [],
   "source": [
    "def recomendacion_juego(user_id: str):\n",
    "    '''\n",
    "    Devuelve una lista con 5 sugerencias de juegos para el usuario seleccionado.\n",
    "    Ejemplo de retorno: {'Sugerencias para el usuario 76561197970982479': ['1. RWBY: Grimm Eclipse', '2. Rogue Legacy', '3. Dust: An Elysian Tail', \"4. King Arthur's Gold\", '5. RIFT']}\n",
    "    '''\n",
    "    # Si el ID de usuario no se encuentra en los dataframes:\n",
    "    if user_id not in df_user_reviews['user_id'].values:\n",
    "        return f\"ERROR: El ID de usuario {user_id} no existe en la base de datos.\"  # se imprime un mensaje de error\n",
    "    else:\n",
    "        # Se asigna el ID ingresado a la variable user\n",
    "        user = user_id\n",
    "\n",
    "        # En primer lugar, se extraen los juegos que el usuario ya ha jugado:\n",
    "        df_rev_games = pd.merge(df_user_reviews, df_steam_games, left_on=\"reviews_item_id\", right_on=\"id\", how=\"inner\")\n",
    "        juegos_jugados = df_rev_games[df_rev_games['user_id'] == user]\n",
    "\n",
    "        # Se eliminan del dataframe de juegos los jugados por el usuario\n",
    "        df_user = df_steam_games[[\"id\", \"app_name\"]].drop(juegos_jugados.id, errors='ignore')\n",
    "\n",
    "        # Ruta completa al archivo RS_model.pkl\n",
    "        ruta_modelo = '../0 Dataset/RS_model.pkl'\n",
    "\n",
    "        # Se carga el modelo de Sistema de Recomendación entrenado desde el archivo especificado\n",
    "        with open(ruta_modelo, 'rb') as file:\n",
    "            RS_model = pickle.load(file)\n",
    "\n",
    "        # Se realizan las predicciones y se agregan en una nueva columna:\n",
    "        df_user['estimate_Score'] = df_user['id'].apply(lambda x: RS_model.predict(user, x).est)\n",
    "\n",
    "        # Se ordena el dataframe de manera descendente en función al score y se seleccionan los 5 principales:\n",
    "        sugerencias = df_user.sort_values('estimate_Score', ascending=False)[\"app_name\"].head(5).to_list()\n",
    "\n",
    "        # Se crea la llave del diccionario de retorno\n",
    "        llave_dic = f'Sugerencias para el usuario {user}'\n",
    "\n",
    "        # Se da formato a las 5 sugerencias:\n",
    "        sugerencias_formateadas = [f'{i+1}. {sugerencia}' for i, sugerencia in enumerate(sugerencias)]\n",
    "\n",
    "        # Se devuelven los resultados en un diccionario\n",
    "        return {llave_dic: sugerencias_formateadas}\n"
   ]
  },
  {
   "cell_type": "code",
   "execution_count": 14,
   "metadata": {},
   "outputs": [
    {
     "data": {
      "text/plain": [
       "{'Sugerencias para el usuario 76561197970982479': ['1. Source Filmmaker',\n",
       "  '2. Arma II: DayZ Mod',\n",
       "  '3. Free to Play',\n",
       "  '4. Guns of Icarus Online',\n",
       "  '5. The Wolf Among Us']}"
      ]
     },
     "execution_count": 14,
     "metadata": {},
     "output_type": "execute_result"
    }
   ],
   "source": [
    "# Se prueba la funcion\n",
    "recomendacion_juego(\"76561197970982479\")"
   ]
  }
 ],
 "metadata": {
  "kernelspec": {
   "display_name": "Python 3",
   "language": "python",
   "name": "python3"
  },
  "language_info": {
   "codemirror_mode": {
    "name": "ipython",
    "version": 3
   },
   "file_extension": ".py",
   "mimetype": "text/x-python",
   "name": "python",
   "nbconvert_exporter": "python",
   "pygments_lexer": "ipython3",
   "version": "3.11.4"
  }
 },
 "nbformat": 4,
 "nbformat_minor": 2
}
