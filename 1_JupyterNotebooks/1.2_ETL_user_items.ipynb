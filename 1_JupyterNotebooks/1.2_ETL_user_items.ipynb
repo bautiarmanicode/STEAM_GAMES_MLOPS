{
 "cells": [
  {
   "cell_type": "markdown",
   "metadata": {},
   "source": [
    "## 🛠️ **ETL (Extract, Transform, Load)**\n",
    "### **📂Procesamos el 2do archivo: `user_items.json.gz`**\n"
   ]
  },
  {
   "cell_type": "markdown",
   "metadata": {},
   "source": [
    "### 📦 **Extracción  y exploración**"
   ]
  },
  {
   "cell_type": "markdown",
   "metadata": {},
   "source": [
    "#### **Importamos las librerías que vamos a usar**\n"
   ]
  },
  {
   "cell_type": "code",
   "execution_count": 1,
   "metadata": {},
   "outputs": [],
   "source": [
    "import pandas as pd  # Pandas se utiliza para el manejo y análisis de datos tabulares\n",
    "import pyarrow as pa  # PyArrow se utiliza para trabajar con formatos de datos columnares y eficientes como Parquet\n",
    "import pyarrow.parquet as pq  # Importamos Parquet\n",
    "from pandas import json_normalize\n",
    "\n",
    "import ast  # AST (Abstract Syntax Trees) se utiliza para interpretar expresiones Python\n",
    "import gzip\n",
    "import json  # JSON se utiliza para trabajar con datos en formato JSON\n",
    "import os  # OS proporciona funciones para interactuar con el sistema operativo\n",
    "import time\n",
    "import warnings  # Warnings se utiliza para gestionar advertencias y filtrarlas si es necesario\n",
    "warnings.filterwarnings(\"ignore\")\n",
    "from data_utils import data_type_check, duplicados_columna\n",
    "# Autoreload se utiliza para recargar automáticamente los módulos al realizar cambios\n",
    "%load_ext autoreload\n",
    "%autoreload 2"
   ]
  },
  {
   "cell_type": "markdown",
   "metadata": {},
   "source": [
    "#### **Descomprimimos el archivo gz** "
   ]
  },
  {
   "cell_type": "code",
   "execution_count": 2,
   "metadata": {},
   "outputs": [
    {
     "name": "stdout",
     "output_type": "stream",
     "text": [
      "Archivo descomprimido: ../0 Dataset/users_items.json\n"
     ]
    }
   ],
   "source": [
    "# Obtenemos el tiempo de inicio de todo este ipynb \n",
    "start_time = time.time()\n",
    "\n",
    "def descomprimir_archivos_gz(archivos_gz, carpeta_destino):\n",
    "    for archivo_gz in archivos_gz:\n",
    "        with gzip.open(archivo_gz, 'rb') as f_in:\n",
    "            contenido = f_in.read()\n",
    "            archivo_destino = os.path.join(carpeta_destino, os.path.splitext(os.path.basename(archivo_gz))[0])\n",
    "            with open(archivo_destino, 'wb') as f_out:\n",
    "                f_out.write(contenido)\n",
    "        print(f'Archivo descomprimido: {archivo_destino}')\n",
    "\n",
    "# Ejemplo de uso con una lista de archivos gz\n",
    "archivo_gz_a_descomprimir = ['../0 Dataset/users_items.json.gz']\n",
    "carpeta_destino = '../0 Dataset/'\n",
    "\n",
    "descomprimir_archivos_gz(archivo_gz_a_descomprimir, carpeta_destino)"
   ]
  },
  {
   "cell_type": "markdown",
   "metadata": {},
   "source": [
    "### **📂Procesamos el 2do archivo: `user_items.json.gz`**"
   ]
  },
  {
   "cell_type": "markdown",
   "metadata": {},
   "source": [
    "\n",
    "- Tomamos los datos del archivo JSON, transformamos en un DataFrame y realizamos una primera observación de su contenido."
   ]
  },
  {
   "cell_type": "code",
   "execution_count": 3,
   "metadata": {},
   "outputs": [
    {
     "data": {
      "text/html": [
       "<div>\n",
       "<style scoped>\n",
       "    .dataframe tbody tr th:only-of-type {\n",
       "        vertical-align: middle;\n",
       "    }\n",
       "\n",
       "    .dataframe tbody tr th {\n",
       "        vertical-align: top;\n",
       "    }\n",
       "\n",
       "    .dataframe thead th {\n",
       "        text-align: right;\n",
       "    }\n",
       "</style>\n",
       "<table border=\"1\" class=\"dataframe\">\n",
       "  <thead>\n",
       "    <tr style=\"text-align: right;\">\n",
       "      <th></th>\n",
       "      <th>user_id</th>\n",
       "      <th>items_count</th>\n",
       "      <th>steam_id</th>\n",
       "      <th>user_url</th>\n",
       "      <th>items</th>\n",
       "    </tr>\n",
       "  </thead>\n",
       "  <tbody>\n",
       "    <tr>\n",
       "      <th>14816</th>\n",
       "      <td>commanderj13</td>\n",
       "      <td>134</td>\n",
       "      <td>76561198058617449</td>\n",
       "      <td>http://steamcommunity.com/id/commanderj13</td>\n",
       "      <td>[{'item_id': '70', 'item_name': 'Half-Life', '...</td>\n",
       "    </tr>\n",
       "    <tr>\n",
       "      <th>12024</th>\n",
       "      <td>kryzikk</td>\n",
       "      <td>123</td>\n",
       "      <td>76561198074515463</td>\n",
       "      <td>http://steamcommunity.com/id/kryzikk</td>\n",
       "      <td>[{'item_id': '10', 'item_name': 'Counter-Strik...</td>\n",
       "    </tr>\n",
       "  </tbody>\n",
       "</table>\n",
       "</div>"
      ],
      "text/plain": [
       "            user_id  items_count           steam_id  \\\n",
       "14816  commanderj13          134  76561198058617449   \n",
       "12024       kryzikk          123  76561198074515463   \n",
       "\n",
       "                                        user_url  \\\n",
       "14816  http://steamcommunity.com/id/commanderj13   \n",
       "12024       http://steamcommunity.com/id/kryzikk   \n",
       "\n",
       "                                                   items  \n",
       "14816  [{'item_id': '70', 'item_name': 'Half-Life', '...  \n",
       "12024  [{'item_id': '10', 'item_name': 'Counter-Strik...  "
      ]
     },
     "execution_count": 3,
     "metadata": {},
     "output_type": "execute_result"
    }
   ],
   "source": [
    "#Creamos una lista vacía llamada \"rows\" donde almacenaremos los datos del archivo JSON.\n",
    "rows = []\n",
    "#Abrir el archivo \"user_reviews.json/australian_user_reviews.json\" con la codificación MacRoman.\n",
    "with open(\"../0 Dataset/users_items.json\",\"r\", encoding='utf-8') as f:\n",
    "    # Leer cada línea del archivo.\n",
    "    for line in f.readlines():\n",
    "        # Utilizar \"ast.literal_eval\" para convertir cada línea en un diccionario de Python\n",
    "        # y agregarlo a la lista \"rows\".\n",
    "        rows.append(ast.literal_eval(line))\n",
    "\n",
    "#Crear un DataFrame de Pandas a partir de la lista de diccionarios \"rows\".\n",
    "df_users_items = pd.DataFrame(rows)\n",
    "#Veamos unos registros al asar\n",
    "df_users_items.sample(2)"
   ]
  },
  {
   "cell_type": "markdown",
   "metadata": {},
   "source": [
    "Usando la funcion personalizada `data_type_check` invocada desde `data_utils.py` podemos observar:\n",
    "- Variables categóricas\n",
    "- Variables numéricas\n",
    "- Dimensiones del dataframe\n",
    "- Nulos\n",
    "- Tipos de datos\n",
    "- Informacion acerca de los datos faltantes o nulos de cada columna    \n"
   ]
  },
  {
   "cell_type": "code",
   "execution_count": 4,
   "metadata": {},
   "outputs": [
    {
     "name": "stdout",
     "output_type": "stream",
     "text": [
      "\n",
      "========================================\n",
      " Resumen del dataframe:\n",
      "\n",
      "========================================\n",
      "Dimensiones:  (88310, 5)\n",
      "       columna  %_no_nulos  %_nulos  total_nulos tipo_dato\n",
      "0      user_id       100.0      0.0            0    object\n",
      "1  items_count       100.0      0.0            0     int64\n",
      "2     steam_id       100.0      0.0            0    object\n",
      "3     user_url       100.0      0.0            0    object\n",
      "4        items       100.0      0.0            0    object\n"
     ]
    }
   ],
   "source": [
    "data_type_check(df_users_items)"
   ]
  },
  {
   "cell_type": "markdown",
   "metadata": {},
   "source": [
    "Observamos las columnas del dataset y descubrimos que este conjunto contiene 5 columnas y 88310 filas sin nulos."
   ]
  },
  {
   "cell_type": "code",
   "execution_count": 5,
   "metadata": {},
   "outputs": [
    {
     "data": {
      "text/html": [
       "<div>\n",
       "<style scoped>\n",
       "    .dataframe tbody tr th:only-of-type {\n",
       "        vertical-align: middle;\n",
       "    }\n",
       "\n",
       "    .dataframe tbody tr th {\n",
       "        vertical-align: top;\n",
       "    }\n",
       "\n",
       "    .dataframe thead th {\n",
       "        text-align: right;\n",
       "    }\n",
       "</style>\n",
       "<table border=\"1\" class=\"dataframe\">\n",
       "  <thead>\n",
       "    <tr style=\"text-align: right;\">\n",
       "      <th></th>\n",
       "      <th>user_id</th>\n",
       "      <th>items_count</th>\n",
       "      <th>steam_id</th>\n",
       "      <th>user_url</th>\n",
       "      <th>items</th>\n",
       "    </tr>\n",
       "  </thead>\n",
       "  <tbody>\n",
       "    <tr>\n",
       "      <th>41595</th>\n",
       "      <td>76561198071620258</td>\n",
       "      <td>0</td>\n",
       "      <td>76561198071620258</td>\n",
       "      <td>http://steamcommunity.com/profiles/76561198071...</td>\n",
       "      <td>[]</td>\n",
       "    </tr>\n",
       "  </tbody>\n",
       "</table>\n",
       "</div>"
      ],
      "text/plain": [
       "                 user_id  items_count           steam_id  \\\n",
       "41595  76561198071620258            0  76561198071620258   \n",
       "\n",
       "                                                user_url items  \n",
       "41595  http://steamcommunity.com/profiles/76561198071...    []  "
      ]
     },
     "execution_count": 5,
     "metadata": {},
     "output_type": "execute_result"
    }
   ],
   "source": [
    "df_users_items.sample(1)"
   ]
  },
  {
   "cell_type": "markdown",
   "metadata": {},
   "source": [
    "### 🔁 **TRANSFORM**"
   ]
  },
  {
   "cell_type": "markdown",
   "metadata": {},
   "source": [
    "#### Tratamiento  de la columna **'items'** (es una lista de diccionarios)\n",
    "Desanidado y normalizacion de items, que contiene:\n",
    "- Item_name\n",
    "- playtime_forever\n",
    "- playtime_2weeks"
   ]
  },
  {
   "cell_type": "markdown",
   "metadata": {},
   "source": [
    "Exploramos items para entender su estructura."
   ]
  },
  {
   "cell_type": "code",
   "execution_count": 6,
   "metadata": {},
   "outputs": [
    {
     "data": {
      "text/plain": [
       "54714    [{'item_id': '205790', 'item_name': 'Dota 2 Te...\n",
       "25843    [{'item_id': '240', 'item_name': 'Counter-Stri...\n",
       "80077    [{'item_id': '220260', 'item_name': 'Farming S...\n",
       "42401    [{'item_id': '4000', 'item_name': 'Garry's Mod...\n",
       "18110    [{'item_id': '220', 'item_name': 'Half-Life 2'...\n",
       "Name: items, dtype: object"
      ]
     },
     "execution_count": 6,
     "metadata": {},
     "output_type": "execute_result"
    }
   ],
   "source": [
    "df_users_items['items'].sample(5)"
   ]
  },
  {
   "cell_type": "markdown",
   "metadata": {},
   "source": [
    "La normalización se lleva a cabo en la columna, descomponiendo el diccionario para obtener una columna distinta por cada clave presente en él. "
   ]
  },
  {
   "cell_type": "code",
   "execution_count": 7,
   "metadata": {},
   "outputs": [],
   "source": [
    "#Creamos una nueva fila para cada elemento de la lista en la columna items\n",
    "df_users_items = df_users_items.explode(\"items\").reset_index()\n",
    "#Eliminamos la columna index\n",
    "df_users_items = df_users_items.drop(columns=\"index\")\n",
    "# Creamos una nueva columna para cada elemento de la lista en la columna items\n",
    "df_users_items = pd.concat([df_users_items, pd.json_normalize(df_users_items['items'])], axis=1)\n",
    "#Una vez extraidos eliminamos la columna items\n",
    "df_users_items.drop(columns=['items'], inplace=True)"
   ]
  },
  {
   "cell_type": "code",
   "execution_count": 8,
   "metadata": {},
   "outputs": [
    {
     "name": "stdout",
     "output_type": "stream",
     "text": [
      "\n",
      "========================================\n",
      " Resumen del dataframe:\n",
      "\n",
      "========================================\n",
      "Dimensiones:  (5170015, 8)\n",
      "            columna  %_no_nulos  %_nulos  total_nulos tipo_dato\n",
      "0           user_id      100.00     0.00            0    object\n",
      "1       items_count      100.00     0.00            0     int64\n",
      "2          steam_id      100.00     0.00            0    object\n",
      "3          user_url      100.00     0.00            0    object\n",
      "4           item_id       99.67     0.33        16806    object\n",
      "5         item_name       99.67     0.33        16806    object\n",
      "6  playtime_forever       99.67     0.33        16806   float64\n",
      "7   playtime_2weeks       99.67     0.33        16806   float64\n"
     ]
    }
   ],
   "source": [
    "data_type_check(df_users_items)"
   ]
  },
  {
   "cell_type": "markdown",
   "metadata": {},
   "source": [
    "Verificamos si tenemos duplicados en el Dataframe."
   ]
  },
  {
   "cell_type": "code",
   "execution_count": 9,
   "metadata": {},
   "outputs": [
    {
     "data": {
      "text/html": [
       "<div>\n",
       "<style scoped>\n",
       "    .dataframe tbody tr th:only-of-type {\n",
       "        vertical-align: middle;\n",
       "    }\n",
       "\n",
       "    .dataframe tbody tr th {\n",
       "        vertical-align: top;\n",
       "    }\n",
       "\n",
       "    .dataframe thead th {\n",
       "        text-align: right;\n",
       "    }\n",
       "</style>\n",
       "<table border=\"1\" class=\"dataframe\">\n",
       "  <thead>\n",
       "    <tr style=\"text-align: right;\">\n",
       "      <th></th>\n",
       "      <th>user_id</th>\n",
       "      <th>items_count</th>\n",
       "      <th>steam_id</th>\n",
       "      <th>user_url</th>\n",
       "      <th>item_id</th>\n",
       "      <th>item_name</th>\n",
       "      <th>playtime_forever</th>\n",
       "      <th>playtime_2weeks</th>\n",
       "    </tr>\n",
       "  </thead>\n",
       "  <tbody>\n",
       "    <tr>\n",
       "      <th>75762</th>\n",
       "      <td>bokkkbokkk</td>\n",
       "      <td>0</td>\n",
       "      <td>76561198006988360</td>\n",
       "      <td>http://steamcommunity.com/id/bokkkbokkk</td>\n",
       "      <td>NaN</td>\n",
       "      <td>NaN</td>\n",
       "      <td>NaN</td>\n",
       "      <td>NaN</td>\n",
       "    </tr>\n",
       "    <tr>\n",
       "      <th>164518</th>\n",
       "      <td>Nikiad</td>\n",
       "      <td>109</td>\n",
       "      <td>76561198084006094</td>\n",
       "      <td>http://steamcommunity.com/id/Nikiad</td>\n",
       "      <td>20</td>\n",
       "      <td>Team Fortress Classic</td>\n",
       "      <td>5.0</td>\n",
       "      <td>0.0</td>\n",
       "    </tr>\n",
       "    <tr>\n",
       "      <th>164519</th>\n",
       "      <td>Nikiad</td>\n",
       "      <td>109</td>\n",
       "      <td>76561198084006094</td>\n",
       "      <td>http://steamcommunity.com/id/Nikiad</td>\n",
       "      <td>50</td>\n",
       "      <td>Half-Life: Opposing Force</td>\n",
       "      <td>0.0</td>\n",
       "      <td>0.0</td>\n",
       "    </tr>\n",
       "    <tr>\n",
       "      <th>164520</th>\n",
       "      <td>Nikiad</td>\n",
       "      <td>109</td>\n",
       "      <td>76561198084006094</td>\n",
       "      <td>http://steamcommunity.com/id/Nikiad</td>\n",
       "      <td>70</td>\n",
       "      <td>Half-Life</td>\n",
       "      <td>0.0</td>\n",
       "      <td>0.0</td>\n",
       "    </tr>\n",
       "    <tr>\n",
       "      <th>164521</th>\n",
       "      <td>Nikiad</td>\n",
       "      <td>109</td>\n",
       "      <td>76561198084006094</td>\n",
       "      <td>http://steamcommunity.com/id/Nikiad</td>\n",
       "      <td>130</td>\n",
       "      <td>Half-Life: Blue Shift</td>\n",
       "      <td>0.0</td>\n",
       "      <td>0.0</td>\n",
       "    </tr>\n",
       "    <tr>\n",
       "      <th>...</th>\n",
       "      <td>...</td>\n",
       "      <td>...</td>\n",
       "      <td>...</td>\n",
       "      <td>...</td>\n",
       "      <td>...</td>\n",
       "      <td>...</td>\n",
       "      <td>...</td>\n",
       "      <td>...</td>\n",
       "    </tr>\n",
       "    <tr>\n",
       "      <th>4910939</th>\n",
       "      <td>76561198080057659</td>\n",
       "      <td>39</td>\n",
       "      <td>76561198080057659</td>\n",
       "      <td>http://steamcommunity.com/profiles/76561198080...</td>\n",
       "      <td>221910</td>\n",
       "      <td>The Stanley Parable</td>\n",
       "      <td>53.0</td>\n",
       "      <td>0.0</td>\n",
       "    </tr>\n",
       "    <tr>\n",
       "      <th>4910940</th>\n",
       "      <td>76561198080057659</td>\n",
       "      <td>39</td>\n",
       "      <td>76561198080057659</td>\n",
       "      <td>http://steamcommunity.com/profiles/76561198080...</td>\n",
       "      <td>261030</td>\n",
       "      <td>The Walking Dead: Season Two</td>\n",
       "      <td>253.0</td>\n",
       "      <td>0.0</td>\n",
       "    </tr>\n",
       "    <tr>\n",
       "      <th>4910941</th>\n",
       "      <td>76561198080057659</td>\n",
       "      <td>39</td>\n",
       "      <td>76561198080057659</td>\n",
       "      <td>http://steamcommunity.com/profiles/76561198080...</td>\n",
       "      <td>273110</td>\n",
       "      <td>Counter-Strike Nexon: Zombies</td>\n",
       "      <td>0.0</td>\n",
       "      <td>0.0</td>\n",
       "    </tr>\n",
       "    <tr>\n",
       "      <th>4910942</th>\n",
       "      <td>76561198080057659</td>\n",
       "      <td>39</td>\n",
       "      <td>76561198080057659</td>\n",
       "      <td>http://steamcommunity.com/profiles/76561198080...</td>\n",
       "      <td>730</td>\n",
       "      <td>Counter-Strike: Global Offensive</td>\n",
       "      <td>0.0</td>\n",
       "      <td>0.0</td>\n",
       "    </tr>\n",
       "    <tr>\n",
       "      <th>4985583</th>\n",
       "      <td>farquadian</td>\n",
       "      <td>0</td>\n",
       "      <td>76561198086134170</td>\n",
       "      <td>http://steamcommunity.com/id/farquadian</td>\n",
       "      <td>NaN</td>\n",
       "      <td>NaN</td>\n",
       "      <td>NaN</td>\n",
       "      <td>NaN</td>\n",
       "    </tr>\n",
       "  </tbody>\n",
       "</table>\n",
       "<p>59196 rows × 8 columns</p>\n",
       "</div>"
      ],
      "text/plain": [
       "                   user_id  items_count           steam_id  \\\n",
       "75762           bokkkbokkk            0  76561198006988360   \n",
       "164518              Nikiad          109  76561198084006094   \n",
       "164519              Nikiad          109  76561198084006094   \n",
       "164520              Nikiad          109  76561198084006094   \n",
       "164521              Nikiad          109  76561198084006094   \n",
       "...                    ...          ...                ...   \n",
       "4910939  76561198080057659           39  76561198080057659   \n",
       "4910940  76561198080057659           39  76561198080057659   \n",
       "4910941  76561198080057659           39  76561198080057659   \n",
       "4910942  76561198080057659           39  76561198080057659   \n",
       "4985583         farquadian            0  76561198086134170   \n",
       "\n",
       "                                                  user_url item_id  \\\n",
       "75762              http://steamcommunity.com/id/bokkkbokkk     NaN   \n",
       "164518                 http://steamcommunity.com/id/Nikiad      20   \n",
       "164519                 http://steamcommunity.com/id/Nikiad      50   \n",
       "164520                 http://steamcommunity.com/id/Nikiad      70   \n",
       "164521                 http://steamcommunity.com/id/Nikiad     130   \n",
       "...                                                    ...     ...   \n",
       "4910939  http://steamcommunity.com/profiles/76561198080...  221910   \n",
       "4910940  http://steamcommunity.com/profiles/76561198080...  261030   \n",
       "4910941  http://steamcommunity.com/profiles/76561198080...  273110   \n",
       "4910942  http://steamcommunity.com/profiles/76561198080...     730   \n",
       "4985583            http://steamcommunity.com/id/farquadian     NaN   \n",
       "\n",
       "                                item_name  playtime_forever  playtime_2weeks  \n",
       "75762                                 NaN               NaN              NaN  \n",
       "164518              Team Fortress Classic               5.0              0.0  \n",
       "164519          Half-Life: Opposing Force               0.0              0.0  \n",
       "164520                          Half-Life               0.0              0.0  \n",
       "164521              Half-Life: Blue Shift               0.0              0.0  \n",
       "...                                   ...               ...              ...  \n",
       "4910939               The Stanley Parable              53.0              0.0  \n",
       "4910940      The Walking Dead: Season Two             253.0              0.0  \n",
       "4910941     Counter-Strike Nexon: Zombies               0.0              0.0  \n",
       "4910942  Counter-Strike: Global Offensive               0.0              0.0  \n",
       "4985583                               NaN               NaN              NaN  \n",
       "\n",
       "[59196 rows x 8 columns]"
      ]
     },
     "execution_count": 9,
     "metadata": {},
     "output_type": "execute_result"
    }
   ],
   "source": [
    "# Devuelve duplicados\n",
    "duplicados = df_users_items.loc[df_users_items.duplicated()]\n",
    "duplicados"
   ]
  },
  {
   "cell_type": "markdown",
   "metadata": {},
   "source": [
    "Contamos 59196 filas con datos duplicados. Procedemos a borrarlos.\n"
   ]
  },
  {
   "cell_type": "code",
   "execution_count": 10,
   "metadata": {},
   "outputs": [
    {
     "name": "stdout",
     "output_type": "stream",
     "text": [
      "\n",
      "========================================\n",
      " Resumen del dataframe:\n",
      "\n",
      "========================================\n",
      "Dimensiones:  (5110819, 8)\n",
      "            columna  %_no_nulos  %_nulos  total_nulos tipo_dato\n",
      "0           user_id      100.00     0.00            0    object\n",
      "1       items_count      100.00     0.00            0     int64\n",
      "2          steam_id      100.00     0.00            0    object\n",
      "3          user_url      100.00     0.00            0    object\n",
      "4           item_id       99.67     0.33        16714    object\n",
      "5         item_name       99.67     0.33        16714    object\n",
      "6  playtime_forever       99.67     0.33        16714   float64\n",
      "7   playtime_2weeks       99.67     0.33        16714   float64\n"
     ]
    }
   ],
   "source": [
    "df_users_items = df_users_items.drop_duplicates(keep='first')\n",
    "data_type_check(df_users_items)"
   ]
  },
  {
   "cell_type": "markdown",
   "metadata": {},
   "source": [
    "#### Playtime_forever: "
   ]
  },
  {
   "cell_type": "markdown",
   "metadata": {},
   "source": [
    "Como ya tenemos la informacion de tiempo de juego acumulado por usuario en **playtime_forever**, borramos la columna **playtime_2weeks**\n"
   ]
  },
  {
   "cell_type": "code",
   "execution_count": 11,
   "metadata": {},
   "outputs": [],
   "source": [
    "df_users_items = df_users_items.drop('playtime_2weeks', axis=1)"
   ]
  },
  {
   "cell_type": "code",
   "execution_count": 12,
   "metadata": {},
   "outputs": [
    {
     "data": {
      "text/plain": [
       "13"
      ]
     },
     "execution_count": 12,
     "metadata": {},
     "output_type": "execute_result"
    }
   ],
   "source": [
    "#Verificar duplicados en playtime_forever       \n",
    "df_users_items.duplicated().sum()"
   ]
  },
  {
   "cell_type": "code",
   "execution_count": 13,
   "metadata": {},
   "outputs": [
    {
     "name": "stdout",
     "output_type": "stream",
     "text": [
      "\n",
      "========================================\n",
      " Resumen del dataframe:\n",
      "\n",
      "========================================\n",
      "Dimensiones:  (5110819, 7)\n",
      "            columna  %_no_nulos  %_nulos  total_nulos tipo_dato\n",
      "0           user_id      100.00     0.00            0    object\n",
      "1       items_count      100.00     0.00            0     int64\n",
      "2          steam_id      100.00     0.00            0    object\n",
      "3          user_url      100.00     0.00            0    object\n",
      "4           item_id       99.67     0.33        16714    object\n",
      "5         item_name       99.67     0.33        16714    object\n",
      "6  playtime_forever      100.00     0.00            0   float64\n"
     ]
    }
   ],
   "source": [
    "# Asignar 0 a los valores nulos en playtime_forever     \n",
    "df_users_items['playtime_forever'].fillna(0, inplace=True)\n",
    "data_type_check(df_users_items)"
   ]
  },
  {
   "cell_type": "markdown",
   "metadata": {},
   "source": [
    "#### item_name"
   ]
  },
  {
   "cell_type": "code",
   "execution_count": 14,
   "metadata": {},
   "outputs": [],
   "source": [
    "df_users_items['item_name'].fillna(0, inplace=True)\n",
    "df_users_items['item_name'] = df_users_items['item_name'].astype(str)"
   ]
  },
  {
   "cell_type": "markdown",
   "metadata": {},
   "source": [
    "#### steam_id y user_url\n",
    "- Eliminamos las columnas irrelevantes que no nos riven"
   ]
  },
  {
   "cell_type": "code",
   "execution_count": 15,
   "metadata": {},
   "outputs": [],
   "source": [
    "df_users_items.drop([\"user_url\",\"steam_id\"], axis=1, inplace=True)"
   ]
  },
  {
   "cell_type": "markdown",
   "metadata": {},
   "source": [
    "#### user_id"
   ]
  },
  {
   "cell_type": "code",
   "execution_count": 16,
   "metadata": {},
   "outputs": [],
   "source": [
    "# Eliminar espacios en blanco al principio y al final de los valores\n",
    "df_users_items['user_id'] = df_users_items['user_id'].str.strip()\n",
    "# Llenar valores nulos con un valor específico (por ejemplo, cadena vacía)\n",
    "df_users_items['user_id'].fillna(' ', inplace=True)\n",
    "# Eliminar caracteres especiales o no imprimibles\n",
    "df_users_items['user_id'] = df_users_items['user_id'].str.replace(r'\\W', '')\n",
    "# Convertir a tipo string\n",
    "df_users_items = df_users_items.astype({'user_id': 'string'})\n"
   ]
  },
  {
   "cell_type": "markdown",
   "metadata": {},
   "source": [
    "#### ID"
   ]
  },
  {
   "cell_type": "code",
   "execution_count": 17,
   "metadata": {},
   "outputs": [],
   "source": [
    "#Borramos nulos en item_id\n",
    "df_users_items = df_users_items[df_users_items['item_id'].notna()]"
   ]
  },
  {
   "cell_type": "markdown",
   "metadata": {},
   "source": [
    "### 📤 **LOAD**"
   ]
  },
  {
   "cell_type": "code",
   "execution_count": 18,
   "metadata": {},
   "outputs": [
    {
     "name": "stdout",
     "output_type": "stream",
     "text": [
      "\n",
      "========================================\n",
      " Resumen del dataframe:\n",
      "\n",
      "========================================\n",
      "Dimensiones:  (5094105, 5)\n",
      "            columna  %_no_nulos  %_nulos  total_nulos       tipo_dato\n",
      "0           user_id       100.0      0.0            0  string[python]\n",
      "1       items_count       100.0      0.0            0           int64\n",
      "2           item_id       100.0      0.0            0          object\n",
      "3         item_name       100.0      0.0            0          object\n",
      "4  playtime_forever       100.0      0.0            0         float64\n"
     ]
    }
   ],
   "source": [
    "#Dejamos informacion de muestra acerca de ese archivo\n",
    "data_type_check(df_users_items)"
   ]
  },
  {
   "cell_type": "code",
   "execution_count": 19,
   "metadata": {},
   "outputs": [
    {
     "name": "stdout",
     "output_type": "stream",
     "text": [
      "Se guardó el archivo ..\\0 Dataset\\1.2_users_items_LISTO.parquet\n"
     ]
    }
   ],
   "source": [
    "#Guardamos los cambios en parquet\n",
    "table = pa.Table.from_pandas(df_users_items)\n",
    "ruta_parquet = os.path.join('..', '0 Dataset', '1.2_users_items_LISTO.parquet')\n",
    "df_users_items.to_parquet(ruta_parquet)\n",
    "print(f'Se guardó el archivo {ruta_parquet}')"
   ]
  },
  {
   "cell_type": "markdown",
   "metadata": {},
   "source": [
    "Eliminamos el archivo descomprimidos que ahora tenemos limpio y liviano en formato parquet"
   ]
  },
  {
   "cell_type": "code",
   "execution_count": 20,
   "metadata": {},
   "outputs": [
    {
     "name": "stdout",
     "output_type": "stream",
     "text": [
      "Archivo eliminado: ../0 Dataset/users_items.json\n"
     ]
    }
   ],
   "source": [
    "# Lista de archivos descomprimidos\n",
    "gz_descomprimidos = [\n",
    "    '../0 Dataset/users_items.json'\n",
    "]\n",
    "\n",
    "# Eliminar archivos descomprimidos\n",
    "for archivo_json in gz_descomprimidos:\n",
    "    try:\n",
    "        os.remove(archivo_json)\n",
    "        print(f'Archivo eliminado: {archivo_json}')\n",
    "    except FileNotFoundError:\n",
    "        print(f'Archivo no encontrado: {archivo_json}')"
   ]
  },
  {
   "cell_type": "markdown",
   "metadata": {},
   "source": [
    "Observamos el tiempo de ejecucion total de nuestro proceso ETL 🔥"
   ]
  },
  {
   "cell_type": "code",
   "execution_count": 21,
   "metadata": {},
   "outputs": [
    {
     "name": "stdout",
     "output_type": "stream",
     "text": [
      "Tiempo total de ejecución de este ipynb: 6.3 minutos\n"
     ]
    }
   ],
   "source": [
    "# Obtener el tiempo de finalización\n",
    "end_time = time.time()\n",
    "# Calcular el tiempo total de ejecución\n",
    "total_time = end_time - start_time\n",
    "# Convertir a minutos y redondear a 2 decimales\n",
    "total_time_minutes = round(total_time / 60, 2)\n",
    "# Imprimir resultados\n",
    "print(f\"Tiempo total de ejecución de este ipynb: {total_time_minutes} minutos\")"
   ]
  }
 ],
 "metadata": {
  "kernelspec": {
   "display_name": "Python 3",
   "language": "python",
   "name": "python3"
  },
  "language_info": {
   "codemirror_mode": {
    "name": "ipython",
    "version": 3
   },
   "file_extension": ".py",
   "mimetype": "text/x-python",
   "name": "python",
   "nbconvert_exporter": "python",
   "pygments_lexer": "ipython3",
   "version": "3.10.11"
  }
 },
 "nbformat": 4,
 "nbformat_minor": 2
}
