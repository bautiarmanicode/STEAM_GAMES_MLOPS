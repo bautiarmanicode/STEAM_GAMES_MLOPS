{
 "cells": [
  {
   "cell_type": "markdown",
   "metadata": {},
   "source": [
    "## 🌐 Feature Engineering\n",
    "\n"
   ]
  },
  {
   "cell_type": "markdown",
   "metadata": {},
   "source": [
    "En este ipynb vamos a realizar Feature Engineering, creando dataframes especificos para ser consultados por la api, desarrollando las funciones para los endpoint \n"
   ]
  },
  {
   "cell_type": "markdown",
   "metadata": {},
   "source": [
    " 📥Importaciones "
   ]
  },
  {
   "cell_type": "code",
   "execution_count": 1,
   "metadata": {},
   "outputs": [],
   "source": [
    "import os  # OS proporciona funciones para interactuar con el sistema operativo \n",
    "import pyarrow as pa  # PyArrow se utiliza para trabajar con formatos de datos columnares y eficientes como Parquet\n",
    "import pyarrow.parquet as pq  # Importamos Parquet\n",
    "\n",
    "# Importación del módulo warnings para controlar advertencias\n",
    "\n",
    "import warnings\n",
    "# Importación de pandas y se asigna el alias 'pd' para su uso\n",
    "\n",
    "import pandas as pd\n",
    "from data_utils import analisis_sentimiento, ej_review_sentimiento, data_type_check_EDA\n",
    "# Configuración de la omisión de advertencias\n",
    "warnings.filterwarnings(\"ignore\")\n",
    "# Carga de la extensión autoreload y configuración para recargar automáticamente módulos\n",
    "%load_ext autoreload\n",
    "%autoreload 2\n",
    "%reload_ext autoreload"
   ]
  },
  {
   "cell_type": "markdown",
   "metadata": {},
   "source": [
    "___\n"
   ]
  },
  {
   "cell_type": "markdown",
   "metadata": {},
   "source": [
    "## 📊 Análisis de Sentimientos\n",
    "\n",
    "___\n",
    "\n"
   ]
  },
  {
   "cell_type": "markdown",
   "metadata": {},
   "source": [
    "\n",
    "**'sentiment_analysis'** reemplaza a **'reviews_review'** : se crea esta nueva columna para realizar un análisis de sentimientos en los comentarios de los usuarios.\n",
    "\n",
    "📦 Extracción de los conjuntos de datos\n",
    "* ✍️ **Extraemos df_user_reviews:** usuarios que realizaron reseñas de los juegos que consumen.\n"
   ]
  },
  {
   "cell_type": "code",
   "execution_count": 2,
   "metadata": {},
   "outputs": [],
   "source": [
    "df_user_reviews = pd.read_parquet('../0 Dataset/1.3_user_review_LISTO.parquet')"
   ]
  },
  {
   "cell_type": "markdown",
   "metadata": {},
   "source": [
    "**Utilizamos la biblioteca TextBlob** , que es una herramienta de procesamiento de lenguaje natural (NLP) en Python en esta columna y aplico un análisis de sentimiento básico.\n",
    "\n",
    "La escala utilizada es la siguiente:\n",
    "\n",
    "* 👎 **0** si el sentimiento es **malo.**\n",
    "* 😐 **1** si el sentimiento es **neutral o no hay revisión.**\n",
    "* 👍 **2** si el sentimiento es **positivo.**\n",
    "\n",
    "Esta metodología asigna un valor numérico a cada texto, en este caso, a los comentarios de los usuarios en relación con un juego específico, para representar si el sentimiento expresado en el texto es negativo, neutral o positivo.\n",
    "\n",
    "El análisis se basa en la polaridad calculada por TextBlob, donde se considera que las polaridades negativas están por debajo de -0.2, las positivas por encima de 0.2 y las neutrales entre estos valores.\n"
   ]
  },
  {
   "cell_type": "code",
   "execution_count": 3,
   "metadata": {},
   "outputs": [
    {
     "data": {
      "text/html": [
       "<div>\n",
       "<style scoped>\n",
       "    .dataframe tbody tr th:only-of-type {\n",
       "        vertical-align: middle;\n",
       "    }\n",
       "\n",
       "    .dataframe tbody tr th {\n",
       "        vertical-align: top;\n",
       "    }\n",
       "\n",
       "    .dataframe thead th {\n",
       "        text-align: right;\n",
       "    }\n",
       "</style>\n",
       "<table border=\"1\" class=\"dataframe\">\n",
       "  <thead>\n",
       "    <tr style=\"text-align: right;\">\n",
       "      <th></th>\n",
       "      <th>user_id</th>\n",
       "      <th>user_url</th>\n",
       "      <th>reviews_posted</th>\n",
       "      <th>reviews_item_id</th>\n",
       "      <th>reviews_helpful</th>\n",
       "      <th>reviews_recommend</th>\n",
       "      <th>reviews_review</th>\n",
       "      <th>sentiment_analysis</th>\n",
       "    </tr>\n",
       "  </thead>\n",
       "  <tbody>\n",
       "    <tr>\n",
       "      <th>0</th>\n",
       "      <td>76561197970982479</td>\n",
       "      <td>http://steamcommunity.com/profiles/76561197970...</td>\n",
       "      <td>Posted November 5, 2011.</td>\n",
       "      <td>1250</td>\n",
       "      <td>No ratings yet</td>\n",
       "      <td>True</td>\n",
       "      <td>Simple yet with great replayability. In my opi...</td>\n",
       "      <td>1</td>\n",
       "    </tr>\n",
       "    <tr>\n",
       "      <th>1</th>\n",
       "      <td>js41637</td>\n",
       "      <td>http://steamcommunity.com/id/js41637</td>\n",
       "      <td>Posted June 24, 2014.</td>\n",
       "      <td>251610</td>\n",
       "      <td>15 of 20 people (75%) found this review helpful</td>\n",
       "      <td>True</td>\n",
       "      <td>I know what you think when you see this title ...</td>\n",
       "      <td>1</td>\n",
       "    </tr>\n",
       "    <tr>\n",
       "      <th>2</th>\n",
       "      <td>evcentric</td>\n",
       "      <td>http://steamcommunity.com/id/evcentric</td>\n",
       "      <td>Posted February 3.</td>\n",
       "      <td>248820</td>\n",
       "      <td>No ratings yet</td>\n",
       "      <td>True</td>\n",
       "      <td>A suitably punishing roguelike platformer.  Wi...</td>\n",
       "      <td>2</td>\n",
       "    </tr>\n",
       "    <tr>\n",
       "      <th>3</th>\n",
       "      <td>doctr</td>\n",
       "      <td>http://steamcommunity.com/id/doctr</td>\n",
       "      <td>Posted October 14, 2013.</td>\n",
       "      <td>250320</td>\n",
       "      <td>2 of 2 people (100%) found this review helpful</td>\n",
       "      <td>True</td>\n",
       "      <td>This game... is so fun. The fight sequences ha...</td>\n",
       "      <td>2</td>\n",
       "    </tr>\n",
       "    <tr>\n",
       "      <th>4</th>\n",
       "      <td>maplemage</td>\n",
       "      <td>http://steamcommunity.com/id/maplemage</td>\n",
       "      <td>Posted April 15, 2014.</td>\n",
       "      <td>211420</td>\n",
       "      <td>35 of 43 people (81%) found this review helpful</td>\n",
       "      <td>True</td>\n",
       "      <td>Git gud</td>\n",
       "      <td>1</td>\n",
       "    </tr>\n",
       "  </tbody>\n",
       "</table>\n",
       "</div>"
      ],
      "text/plain": [
       "             user_id                                           user_url  \\\n",
       "0  76561197970982479  http://steamcommunity.com/profiles/76561197970...   \n",
       "1            js41637               http://steamcommunity.com/id/js41637   \n",
       "2          evcentric             http://steamcommunity.com/id/evcentric   \n",
       "3              doctr                 http://steamcommunity.com/id/doctr   \n",
       "4          maplemage             http://steamcommunity.com/id/maplemage   \n",
       "\n",
       "             reviews_posted  reviews_item_id  \\\n",
       "0  Posted November 5, 2011.             1250   \n",
       "1     Posted June 24, 2014.           251610   \n",
       "2        Posted February 3.           248820   \n",
       "3  Posted October 14, 2013.           250320   \n",
       "4    Posted April 15, 2014.           211420   \n",
       "\n",
       "                                   reviews_helpful  reviews_recommend  \\\n",
       "0                                   No ratings yet               True   \n",
       "1  15 of 20 people (75%) found this review helpful               True   \n",
       "2                                   No ratings yet               True   \n",
       "3   2 of 2 people (100%) found this review helpful               True   \n",
       "4  35 of 43 people (81%) found this review helpful               True   \n",
       "\n",
       "                                      reviews_review  sentiment_analysis  \n",
       "0  Simple yet with great replayability. In my opi...                   1  \n",
       "1  I know what you think when you see this title ...                   1  \n",
       "2  A suitably punishing roguelike platformer.  Wi...                   2  \n",
       "3  This game... is so fun. The fight sequences ha...                   2  \n",
       "4                                            Git gud                   1  "
      ]
     },
     "execution_count": 3,
     "metadata": {},
     "output_type": "execute_result"
    }
   ],
   "source": [
    "df_user_reviews['sentiment_analysis'] = df_user_reviews['reviews_review'].apply(analisis_sentimiento)\n",
    "df_user_reviews.head()"
   ]
  },
  {
   "cell_type": "code",
   "execution_count": 4,
   "metadata": {},
   "outputs": [
    {
     "name": "stdout",
     "output_type": "stream",
     "text": [
      "En la sección de evaluación de sentimientos, se presentan los siguientes ejemplos de reseñas para 0:\n",
      "Reseña: 1: This game is Marvellous.\n",
      "Reseña: 2: Killed the Emperor, nobody cared and got away with it. Accidentally killed a chicken and everybody decided to gang up on me. 10/10\n",
      "Reseña: 3: This Game Doesn't Work\n",
      "\n",
      "\n",
      "En la sección de evaluación de sentimientos, se presentan los siguientes ejemplos de reseñas para 1:\n",
      "Reseña: 1: Simple yet with great replayability. In my opinion does \"zombie\" hordes and team work better than left 4 dead plus has a global leveling system. Alot of down to earth \"zombie\" splattering fun for the whole family. Amazed this sort of FPS is so rare.\n",
      "Reseña: 2: I know what you think when you see this title \"Barbie Dreamhouse Party\" but do not be intimidated by it's title, this is easily one of my GOTYs. You don't get any of that cliche game mechanics that all the latest games have, this is simply good core gameplay. Yes, you can't 360 noscope your friends, but what you can do is show them up with your bad ♥♥♥ dance moves and put them to shame as you show them what true fashion and color combinations are.I know this game says for kids but, this is easily for any age range and any age will have a blast playing this.8/8\n",
      "Reseña: 3: Git gud\n",
      "\n",
      "\n",
      "En la sección de evaluación de sentimientos, se presentan los siguientes ejemplos de reseñas para 2:\n",
      "Reseña: 1: A suitably punishing roguelike platformer.  Winning feels good.  Progressive unlocks mean a good slog ending in failure doesn't feel like a waste.\n",
      "Reseña: 2: This game... is so fun. The fight sequences have been improved from walking dead. It also includes more of a Sam and Max puzzle solving (some of it in the first episode) and walking dead. The game also gets even more better if you have read the Fables comic books, which are without a doubt, very good. The music is also superb and fit the scenarios very well.\n",
      "Reseña: 3: love it\n",
      "\n",
      "\n"
     ]
    }
   ],
   "source": [
    "#Reviso algunos ejemplos para cada una de las clases de sentimiento.\n",
    "ej_review_sentimiento(df_user_reviews['reviews_review'], df_user_reviews['sentiment_analysis'])"
   ]
  },
  {
   "cell_type": "markdown",
   "metadata": {},
   "source": [
    "🗑️ Al final del proceso, la columna 'reviews_review' se elimina del conjunto de datos. \n"
   ]
  },
  {
   "cell_type": "code",
   "execution_count": 5,
   "metadata": {},
   "outputs": [
    {
     "name": "stdout",
     "output_type": "stream",
     "text": [
      "\n",
      "========================================\n",
      " Resumen del DataFrame 'df_user_reviews': \n",
      "\n",
      "========================================\n",
      "Dimensiones:  (57397, 6)\n",
      "              columna  no_nulos  %_no_nulos  nulos  %_nulos tipo_dato\n",
      "0             user_id     57397       100.0      0      0.0    object\n",
      "1            user_url     57397       100.0      0      0.0    object\n",
      "2      reviews_posted     57397       100.0      0      0.0    object\n",
      "3     reviews_item_id     57397       100.0      0      0.0     int64\n",
      "4   reviews_recommend     57397       100.0      0      0.0      bool\n",
      "5  sentiment_analysis     57397       100.0      0      0.0     int64\n"
     ]
    },
    {
     "data": {
      "image/png": "[encoded data removed]",
      "text/plain": [
       "<Figure size 800x600 with 1 Axes>"
      ]
     },
     "metadata": {},
     "output_type": "display_data"
    }
   ],
   "source": [
    "df_user_reviews = df_user_reviews.drop(columns=['reviews_review','reviews_helpful'])\n",
    "data_type_check_EDA(df_user_reviews)"
   ]
  },
  {
   "cell_type": "markdown",
   "metadata": {},
   "source": [
    " **📤 LOAD** (Guardamos los cambios y borramos el parquet viejo y dejamos el nuevo que tiene el analisis de sentimiento)\n"
   ]
  },
  {
   "cell_type": "code",
   "execution_count": 6,
   "metadata": {},
   "outputs": [
    {
     "name": "stdout",
     "output_type": "stream",
     "text": [
      "Se guardó el archivo ../0 Dataset/1.3_user_review_sentiment.parquet\n"
     ]
    }
   ],
   "source": [
    "limpio = '../0 Dataset/1.3_user_review_sentiment.parquet'\n",
    "df_user_reviews.to_parquet(limpio, index=False)\n",
    "print(f'Se guardó el archivo {limpio}')"
   ]
  },
  {
   "cell_type": "markdown",
   "metadata": {},
   "source": [
    "___\n"
   ]
  },
  {
   "cell_type": "markdown",
   "metadata": {},
   "source": [
    "\n",
    "## 1 🌐 `developer(desarrollador: str)`: \n",
    "\n",
    "___\n"
   ]
  },
  {
   "cell_type": "markdown",
   "metadata": {},
   "source": [
    " Devuelve la cantidad de juegos y porcentaje de contenido Free por año según empresa desarrolladora\n",
    "\n",
    "🌐Para acelerar la velocidad de la api, he decidido crear un DF especifico, usando developer, id, release_year y price."
   ]
  },
  {
   "cell_type": "code",
   "execution_count": 7,
   "metadata": {},
   "outputs": [],
   "source": [
    "#Cargamos los datos de Steam Games\n",
    "df_steam_games = pd.read_parquet('../0 Dataset/1.1_steam_games_LISTO.parquet')"
   ]
  },
  {
   "cell_type": "code",
   "execution_count": 8,
   "metadata": {},
   "outputs": [],
   "source": [
    "#Agrupamos el dataframe por columnas, calculamos la cantidad de items y el % gratuito para cada combinacion de desarrollador y año.\n",
    "developer_stats = df_steam_games.groupby(['developer', 'release_year']).agg(\n",
    "    cantidad_items=('id', 'count'),\n",
    "    contenido_free=('price', lambda x: (x == 0).mean())\n",
    ")\n",
    "#Reseteamos el indice para facilitar el acceso a los datos\n",
    "developer_stats = developer_stats.reset_index()\n"
   ]
  },
  {
   "cell_type": "code",
   "execution_count": 9,
   "metadata": {},
   "outputs": [],
   "source": [
    "#Renombramos las columnas par que coincidan con los nombres esperados en el endpoint\n",
    "developer_stats = developer_stats.rename(columns={\n",
    "    'developer': 'Desarrollador',\n",
    "    'release_year': 'Año',\n",
    "    'cantidad_items': 'Cantidad de Items',\n",
    "    'contenido_free': 'Contenido Free'\n",
    "})"
   ]
  },
  {
   "cell_type": "code",
   "execution_count": 10,
   "metadata": {},
   "outputs": [],
   "source": [
    "#Creamos nuestra funcion\n",
    "def developer(desarrollador: str):\n",
    "    result = developer_stats[developer_stats['Desarrollador'] == desarrollador]\n",
    "    return result.to_dict(orient='records')"
   ]
  },
  {
   "cell_type": "code",
   "execution_count": 11,
   "metadata": {},
   "outputs": [
    {
     "name": "stdout",
     "output_type": "stream",
     "text": [
      "[{'Desarrollador': 'Capcom', 'Año': 2008, 'Cantidad de Items': 2, 'Contenido Free': 0.0}, {'Desarrollador': 'Capcom', 'Año': 2009, 'Cantidad de Items': 3, 'Contenido Free': 0.0}, {'Desarrollador': 'Capcom', 'Año': 2011, 'Cantidad de Items': 8, 'Contenido Free': 0.0}, {'Desarrollador': 'Capcom', 'Año': 2013, 'Cantidad de Items': 14, 'Contenido Free': 0.0}, {'Desarrollador': 'Capcom', 'Año': 2014, 'Cantidad de Items': 21, 'Contenido Free': 0.0}, {'Desarrollador': 'Capcom', 'Año': 2015, 'Cantidad de Items': 33, 'Contenido Free': 0.0}, {'Desarrollador': 'Capcom', 'Año': 2016, 'Cantidad de Items': 9, 'Contenido Free': 0.1111111111111111}, {'Desarrollador': 'Capcom', 'Año': 2017, 'Cantidad de Items': 40, 'Contenido Free': 0.025}]\n"
     ]
    }
   ],
   "source": [
    "#Probamos la funcion\n",
    "resultado = developer('Capcom')\n",
    "print(resultado)"
   ]
  },
  {
   "cell_type": "markdown",
   "metadata": {},
   "source": [
    "Exito. Guardamos nuestro df"
   ]
  },
  {
   "cell_type": "code",
   "execution_count": 12,
   "metadata": {},
   "outputs": [
    {
     "name": "stdout",
     "output_type": "stream",
     "text": [
      "Se guardó el archivo ..\\0 Dataset\\2.2.1_API_developer.parquet\n"
     ]
    }
   ],
   "source": [
    "#Guardamos nuestro df developer_stats para la api en formato parquet\n",
    "\n",
    "table = pa.Table.from_pandas(developer_stats)\n",
    "ruta_parquet = os.path.join('..', '0 Dataset', '2.2.1_API_developer.parquet')\n",
    "developer_stats.to_parquet(ruta_parquet)\n",
    "print(f'Se guardó el archivo {ruta_parquet}')"
   ]
  },
  {
   "cell_type": "markdown",
   "metadata": {},
   "source": [
    "___"
   ]
  },
  {
   "cell_type": "markdown",
   "metadata": {},
   "source": [
    "## 2 🌐 `userdata(User_id: str)` :  \n",
    "\n",
    "___\n",
    "\n"
   ]
  },
  {
   "cell_type": "markdown",
   "metadata": {},
   "source": [
    "Debe devolver cantidad de dinero gastado por el usuario,     el porcentaje de recomendación en base a reviews.recommend y cantidad de items.\n",
    "    \n",
    "    Ejemplo de retorno: \n",
    "    {\"Usuario X\" : us213ndjss09sdf, \"Dinero gastado\": 200 USD, \n",
    "     \"% de recomendación\": 20%, \"cantidad de items\": 5}"
   ]
  },
  {
   "cell_type": "code",
   "execution_count": 13,
   "metadata": {},
   "outputs": [],
   "source": [
    "# Cargar los DataFrames necesarios\n",
    "df_steam_games = pd.read_parquet('../0 Dataset/1.1_steam_games_LISTO.parquet')\n",
    "df_users_items = pd.read_parquet('../0 Dataset/1.2_users_items_LISTO.parquet')\n",
    "df_user_reviews = pd.read_parquet('../0 Dataset/1.3_user_review_sentiment.parquet')"
   ]
  },
  {
   "cell_type": "code",
   "execution_count": 14,
   "metadata": {},
   "outputs": [
    {
     "name": "stdout",
     "output_type": "stream",
     "text": [
      "{'Usuario': 'evcentric', 'Dinero gastado': '68.94 USD', '% de recomendación': '100.0%', 'Cantidad de items': 6}\n"
     ]
    }
   ],
   "source": [
    "def userdata(user_id: str):\n",
    "    \"\"\"\n",
    "    Devuelve la cantidad de dinero gastado por el usuario ingresado, el porcentaje de recomendación sobre las reviews realizadas y la cantidad de items.\n",
    "    Ejemplo de retorno: {\"Usuario X\": us213ndjss09sdf, \"Dinero gastado\": 200 USD, \"% de recomendación\": 20%, \"cantidad de items\": 5}\n",
    "    \"\"\"\n",
    "    # Si el user_id no se encuentra en los dataframes:\n",
    "    if user_id not in df_user_reviews['user_id'].values:\n",
    "        return f\"ERROR: El user_id {user_id} no existe en la base de datos.\"  # se imprime mensaje de error\n",
    "    else:\n",
    "        # Se filtran los datos en función al usuario especificado\n",
    "        df_filtrado = df_user_reviews[df_user_reviews['user_id'] == user_id]\n",
    "        \n",
    "        # Se unen las columnas necesarias de los dataframes:\n",
    "        df_merged = pd.merge(df_filtrado[['user_id', 'reviews_item_id', 'reviews_recommend']], \n",
    "                              df_steam_games[['id', 'price']], \n",
    "                              left_on='reviews_item_id', right_on='id', how='inner')\n",
    "        \n",
    "        # Se calcula la cantidad de dinero gastado por el usuario\n",
    "        dinero_gastado = round(df_merged['price'].sum(), 2)\n",
    "        \n",
    "        # Se calcula la cantidad de recomendaciones del usuario\n",
    "        recomendaciones = df_merged['reviews_recommend'].sum()\n",
    "        \n",
    "        # Se calcula el total de reviews del usuario\n",
    "        total_reviews = df_merged.shape[0]\n",
    "        \n",
    "        # Se calcula el porcentaje de recomendaciones sobre el total de reviews\n",
    "        porcentaje_recomendacion = round(recomendaciones / total_reviews * 100, 0)\n",
    "        \n",
    "        # Se calcula la cantidad de items por usuario\n",
    "        cantidad_de_items = df_merged['reviews_item_id'].nunique()\n",
    "        \n",
    "        # Crear un diccionario con los resultados\n",
    "        dicc_rdos = {\n",
    "            \"Usuario\": user_id,\n",
    "            \"Dinero gastado\": f'{dinero_gastado} USD',\n",
    "            \"% de recomendación\": f'{porcentaje_recomendacion}%',\n",
    "            'Cantidad de items': cantidad_de_items\n",
    "        }\n",
    "        return dicc_rdos\n",
    "\n",
    "# Probamos la función\n",
    "resultado = userdata('evcentric')\n",
    "print(resultado)"
   ]
  },
  {
   "cell_type": "markdown",
   "metadata": {},
   "source": [
    "___"
   ]
  },
  {
   "cell_type": "markdown",
   "metadata": {},
   "source": [
    "# PENDIENTES"
   ]
  },
  {
   "cell_type": "markdown",
   "metadata": {},
   "source": [
    "## 3 🌐 `UserForGenre(genero:str)`:\n",
    "\n",
    "___\n"
   ]
  },
  {
   "cell_type": "markdown",
   "metadata": {},
   "source": [
    "Debe devolver el usuario que acumula más horas jugadas para el género dado y una lista de la acumulación de horas jugadas por año de lanzamiento."
   ]
  },
  {
   "cell_type": "markdown",
   "metadata": {},
   "source": [
    "Para poder conseguir con mas facilidad la cantidad de horas jugadas, vamos a transformar el tiempo jugado de minutos a horas."
   ]
  },
  {
   "cell_type": "markdown",
   "metadata": {},
   "source": [
    "#### Playtime_forever: Transformamos los minutos a horas "
   ]
  },
  {
   "cell_type": "markdown",
   "metadata": {},
   "source": [
    "Creamos un df que tenga genre por juego, tiempo jugado por user, con su id. "
   ]
  },
  {
   "cell_type": "code",
   "execution_count": 15,
   "metadata": {},
   "outputs": [],
   "source": [
    "df_users_items = pd.read_parquet('../0 Dataset/1.2_users_items_LISTO.parquet')\n",
    "df_steam_games = pd.read_parquet('../0 Dataset/1.1_steam_games_LISTO.parquet')"
   ]
  },
  {
   "cell_type": "code",
   "execution_count": 16,
   "metadata": {},
   "outputs": [
    {
     "data": {
      "text/html": [
       "<div>\n",
       "<style scoped>\n",
       "    .dataframe tbody tr th:only-of-type {\n",
       "        vertical-align: middle;\n",
       "    }\n",
       "\n",
       "    .dataframe tbody tr th {\n",
       "        vertical-align: top;\n",
       "    }\n",
       "\n",
       "    .dataframe thead th {\n",
       "        text-align: right;\n",
       "    }\n",
       "</style>\n",
       "<table border=\"1\" class=\"dataframe\">\n",
       "  <thead>\n",
       "    <tr style=\"text-align: right;\">\n",
       "      <th></th>\n",
       "      <th>playtime_forever</th>\n",
       "      <th>user_id</th>\n",
       "      <th>item_id</th>\n",
       "    </tr>\n",
       "  </thead>\n",
       "  <tbody>\n",
       "    <tr>\n",
       "      <th>0</th>\n",
       "      <td>6.0</td>\n",
       "      <td>76561197970982479</td>\n",
       "      <td>10</td>\n",
       "    </tr>\n",
       "    <tr>\n",
       "      <th>1</th>\n",
       "      <td>0.0</td>\n",
       "      <td>76561197970982479</td>\n",
       "      <td>20</td>\n",
       "    </tr>\n",
       "    <tr>\n",
       "      <th>2</th>\n",
       "      <td>7.0</td>\n",
       "      <td>76561197970982479</td>\n",
       "      <td>30</td>\n",
       "    </tr>\n",
       "    <tr>\n",
       "      <th>3</th>\n",
       "      <td>0.0</td>\n",
       "      <td>76561197970982479</td>\n",
       "      <td>40</td>\n",
       "    </tr>\n",
       "    <tr>\n",
       "      <th>4</th>\n",
       "      <td>0.0</td>\n",
       "      <td>76561197970982479</td>\n",
       "      <td>50</td>\n",
       "    </tr>\n",
       "    <tr>\n",
       "      <th>...</th>\n",
       "      <td>...</td>\n",
       "      <td>...</td>\n",
       "      <td>...</td>\n",
       "    </tr>\n",
       "    <tr>\n",
       "      <th>5170009</th>\n",
       "      <td>0.0</td>\n",
       "      <td>76561198329548331</td>\n",
       "      <td>346330</td>\n",
       "    </tr>\n",
       "    <tr>\n",
       "      <th>5170010</th>\n",
       "      <td>0.0</td>\n",
       "      <td>76561198329548331</td>\n",
       "      <td>373330</td>\n",
       "    </tr>\n",
       "    <tr>\n",
       "      <th>5170011</th>\n",
       "      <td>3.0</td>\n",
       "      <td>76561198329548331</td>\n",
       "      <td>388490</td>\n",
       "    </tr>\n",
       "    <tr>\n",
       "      <th>5170012</th>\n",
       "      <td>4.0</td>\n",
       "      <td>76561198329548331</td>\n",
       "      <td>521570</td>\n",
       "    </tr>\n",
       "    <tr>\n",
       "      <th>5170013</th>\n",
       "      <td>3.0</td>\n",
       "      <td>76561198329548331</td>\n",
       "      <td>519140</td>\n",
       "    </tr>\n",
       "  </tbody>\n",
       "</table>\n",
       "<p>5094105 rows × 3 columns</p>\n",
       "</div>"
      ],
      "text/plain": [
       "         playtime_forever            user_id item_id\n",
       "0                     6.0  76561197970982479      10\n",
       "1                     0.0  76561197970982479      20\n",
       "2                     7.0  76561197970982479      30\n",
       "3                     0.0  76561197970982479      40\n",
       "4                     0.0  76561197970982479      50\n",
       "...                   ...                ...     ...\n",
       "5170009               0.0  76561198329548331  346330\n",
       "5170010               0.0  76561198329548331  373330\n",
       "5170011               3.0  76561198329548331  388490\n",
       "5170012               4.0  76561198329548331  521570\n",
       "5170013               3.0  76561198329548331  519140\n",
       "\n",
       "[5094105 rows x 3 columns]"
      ]
     },
     "execution_count": 16,
     "metadata": {},
     "output_type": "execute_result"
    }
   ],
   "source": [
    "# extraemos las columnas 'playtime_forever', 'user_id' y 'item_id'\n",
    "playtime_user_item = df_users_items[['playtime_forever', 'user_id', 'item_id']]\n",
    "playtime_user_item"
   ]
  },
  {
   "cell_type": "code",
   "execution_count": 17,
   "metadata": {},
   "outputs": [
    {
     "data": {
      "text/html": [
       "<div>\n",
       "<style scoped>\n",
       "    .dataframe tbody tr th:only-of-type {\n",
       "        vertical-align: middle;\n",
       "    }\n",
       "\n",
       "    .dataframe tbody tr th {\n",
       "        vertical-align: top;\n",
       "    }\n",
       "\n",
       "    .dataframe thead th {\n",
       "        text-align: right;\n",
       "    }\n",
       "</style>\n",
       "<table border=\"1\" class=\"dataframe\">\n",
       "  <thead>\n",
       "    <tr style=\"text-align: right;\">\n",
       "      <th></th>\n",
       "      <th>genres</th>\n",
       "      <th>item_id</th>\n",
       "    </tr>\n",
       "  </thead>\n",
       "  <tbody>\n",
       "    <tr>\n",
       "      <th>88310</th>\n",
       "      <td>['Casual', 'Simulation', 'Indie', 'Strategy', ...</td>\n",
       "      <td>761140</td>\n",
       "    </tr>\n",
       "    <tr>\n",
       "      <th>88311</th>\n",
       "      <td>['Indie', 'RPG', 'Strategy', 'Design &amp; Illustr...</td>\n",
       "      <td>643980</td>\n",
       "    </tr>\n",
       "    <tr>\n",
       "      <th>88312</th>\n",
       "      <td>['Casual', 'Simulation', 'Indie', 'Sports']</td>\n",
       "      <td>670290</td>\n",
       "    </tr>\n",
       "    <tr>\n",
       "      <th>88313</th>\n",
       "      <td>['Adventure', 'Casual', 'Action']</td>\n",
       "      <td>767400</td>\n",
       "    </tr>\n",
       "    <tr>\n",
       "      <th>88314</th>\n",
       "      <td>['Casual', 'Indie', 'Action', 'Sports']</td>\n",
       "      <td>773570</td>\n",
       "    </tr>\n",
       "    <tr>\n",
       "      <th>...</th>\n",
       "      <td>...</td>\n",
       "      <td>...</td>\n",
       "    </tr>\n",
       "    <tr>\n",
       "      <th>120440</th>\n",
       "      <td>['Casual', 'Simulation', 'Indie', 'Strategy']</td>\n",
       "      <td>773640</td>\n",
       "    </tr>\n",
       "    <tr>\n",
       "      <th>120441</th>\n",
       "      <td>['Casual', 'Indie', 'Strategy']</td>\n",
       "      <td>733530</td>\n",
       "    </tr>\n",
       "    <tr>\n",
       "      <th>120442</th>\n",
       "      <td>['Simulation', 'Racing', 'Indie']</td>\n",
       "      <td>610660</td>\n",
       "    </tr>\n",
       "    <tr>\n",
       "      <th>120443</th>\n",
       "      <td>['Casual', 'Indie']</td>\n",
       "      <td>658870</td>\n",
       "    </tr>\n",
       "    <tr>\n",
       "      <th>120444</th>\n",
       "      <td>['Adventure', 'Simulation', 'Indie', 'Action']</td>\n",
       "      <td>681550</td>\n",
       "    </tr>\n",
       "  </tbody>\n",
       "</table>\n",
       "<p>32132 rows × 2 columns</p>\n",
       "</div>"
      ],
      "text/plain": [
       "                                                   genres  item_id\n",
       "88310   ['Casual', 'Simulation', 'Indie', 'Strategy', ...   761140\n",
       "88311   ['Indie', 'RPG', 'Strategy', 'Design & Illustr...   643980\n",
       "88312         ['Casual', 'Simulation', 'Indie', 'Sports']   670290\n",
       "88313                   ['Adventure', 'Casual', 'Action']   767400\n",
       "88314             ['Casual', 'Indie', 'Action', 'Sports']   773570\n",
       "...                                                   ...      ...\n",
       "120440      ['Casual', 'Simulation', 'Indie', 'Strategy']   773640\n",
       "120441                    ['Casual', 'Indie', 'Strategy']   733530\n",
       "120442                  ['Simulation', 'Racing', 'Indie']   610660\n",
       "120443                                ['Casual', 'Indie']   658870\n",
       "120444     ['Adventure', 'Simulation', 'Indie', 'Action']   681550\n",
       "\n",
       "[32132 rows x 2 columns]"
      ]
     },
     "execution_count": 17,
     "metadata": {},
     "output_type": "execute_result"
    }
   ],
   "source": [
    "# Extraemos el 'user_id' del item y el género de los juegos\n",
    "genre_item = df_steam_games[['genres', 'id']]\n",
    "# Se renombra la columna 'item_id' para unirla con el dataframe anterior\n",
    "genre_item = genre_item.rename(columns={'id':'item_id'})\n",
    "#convertir tipo de dato a int de la columna 'item_id\n",
    "genre_item['item_id'] = genre_item['item_id'].astype(int)\n",
    "\n",
    "genre_item"
   ]
  },
  {
   "cell_type": "code",
   "execution_count": 18,
   "metadata": {},
   "outputs": [
    {
     "data": {
      "text/html": [
       "<div>\n",
       "<style scoped>\n",
       "    .dataframe tbody tr th:only-of-type {\n",
       "        vertical-align: middle;\n",
       "    }\n",
       "\n",
       "    .dataframe tbody tr th {\n",
       "        vertical-align: top;\n",
       "    }\n",
       "\n",
       "    .dataframe thead th {\n",
       "        text-align: right;\n",
       "    }\n",
       "</style>\n",
       "<table border=\"1\" class=\"dataframe\">\n",
       "  <thead>\n",
       "    <tr style=\"text-align: right;\">\n",
       "      <th></th>\n",
       "      <th>playtime_forever</th>\n",
       "      <th>user_id</th>\n",
       "      <th>item_id</th>\n",
       "      <th>genres</th>\n",
       "    </tr>\n",
       "  </thead>\n",
       "  <tbody>\n",
       "    <tr>\n",
       "      <th>0</th>\n",
       "      <td>6.0</td>\n",
       "      <td>76561197970982479</td>\n",
       "      <td>10</td>\n",
       "      <td>['Strategy', 'Action']</td>\n",
       "    </tr>\n",
       "    <tr>\n",
       "      <th>1</th>\n",
       "      <td>0.0</td>\n",
       "      <td>76561197970982479</td>\n",
       "      <td>20</td>\n",
       "      <td>['Adventure', 'Casual', 'Action']</td>\n",
       "    </tr>\n",
       "    <tr>\n",
       "      <th>2</th>\n",
       "      <td>7.0</td>\n",
       "      <td>76561197970982479</td>\n",
       "      <td>30</td>\n",
       "      <td>['Action']</td>\n",
       "    </tr>\n",
       "    <tr>\n",
       "      <th>3</th>\n",
       "      <td>0.0</td>\n",
       "      <td>76561197970982479</td>\n",
       "      <td>40</td>\n",
       "      <td>['Action']</td>\n",
       "    </tr>\n",
       "    <tr>\n",
       "      <th>4</th>\n",
       "      <td>0.0</td>\n",
       "      <td>76561197970982479</td>\n",
       "      <td>50</td>\n",
       "      <td>['Adventure', 'Action']</td>\n",
       "    </tr>\n",
       "    <tr>\n",
       "      <th>...</th>\n",
       "      <td>...</td>\n",
       "      <td>...</td>\n",
       "      <td>...</td>\n",
       "      <td>...</td>\n",
       "    </tr>\n",
       "    <tr>\n",
       "      <th>4244826</th>\n",
       "      <td>43.0</td>\n",
       "      <td>76561198329548331</td>\n",
       "      <td>227940</td>\n",
       "      <td>['Adventure', 'Massively Multiplayer', 'Simula...</td>\n",
       "    </tr>\n",
       "    <tr>\n",
       "      <th>4244827</th>\n",
       "      <td>0.0</td>\n",
       "      <td>76561198329548331</td>\n",
       "      <td>346330</td>\n",
       "      <td>['Adventure', 'Indie', 'RPG', 'Action']</td>\n",
       "    </tr>\n",
       "    <tr>\n",
       "      <th>4244828</th>\n",
       "      <td>0.0</td>\n",
       "      <td>76561198329548331</td>\n",
       "      <td>373330</td>\n",
       "      <td>['Adventure', 'Massively Multiplayer', 'Indie'...</td>\n",
       "    </tr>\n",
       "    <tr>\n",
       "      <th>4244829</th>\n",
       "      <td>3.0</td>\n",
       "      <td>76561198329548331</td>\n",
       "      <td>388490</td>\n",
       "      <td>['Adventure']</td>\n",
       "    </tr>\n",
       "    <tr>\n",
       "      <th>4244830</th>\n",
       "      <td>4.0</td>\n",
       "      <td>76561198329548331</td>\n",
       "      <td>521570</td>\n",
       "      <td>['Casual', 'Indie']</td>\n",
       "    </tr>\n",
       "  </tbody>\n",
       "</table>\n",
       "<p>4244831 rows × 4 columns</p>\n",
       "</div>"
      ],
      "text/plain": [
       "         playtime_forever            user_id item_id  \\\n",
       "0                     6.0  76561197970982479      10   \n",
       "1                     0.0  76561197970982479      20   \n",
       "2                     7.0  76561197970982479      30   \n",
       "3                     0.0  76561197970982479      40   \n",
       "4                     0.0  76561197970982479      50   \n",
       "...                   ...                ...     ...   \n",
       "4244826              43.0  76561198329548331  227940   \n",
       "4244827               0.0  76561198329548331  346330   \n",
       "4244828               0.0  76561198329548331  373330   \n",
       "4244829               3.0  76561198329548331  388490   \n",
       "4244830               4.0  76561198329548331  521570   \n",
       "\n",
       "                                                    genres  \n",
       "0                                   ['Strategy', 'Action']  \n",
       "1                        ['Adventure', 'Casual', 'Action']  \n",
       "2                                               ['Action']  \n",
       "3                                               ['Action']  \n",
       "4                                  ['Adventure', 'Action']  \n",
       "...                                                    ...  \n",
       "4244826  ['Adventure', 'Massively Multiplayer', 'Simula...  \n",
       "4244827            ['Adventure', 'Indie', 'RPG', 'Action']  \n",
       "4244828  ['Adventure', 'Massively Multiplayer', 'Indie'...  \n",
       "4244829                                      ['Adventure']  \n",
       "4244830                                ['Casual', 'Indie']  \n",
       "\n",
       "[4244831 rows x 4 columns]"
      ]
     },
     "execution_count": 18,
     "metadata": {},
     "output_type": "execute_result"
    }
   ],
   "source": [
    "# Unimos las tablas para que queden los genre de los usuarios con su user_id y url\n",
    "#cambiar el tipo de dato de item_id de int a str\n",
    "genre_item['item_id'] = genre_item['item_id'].astype(str)\n",
    "df_playtime_genre = playtime_user_item.merge(genre_item, on='item_id') \n",
    "df_playtime_genre"
   ]
  },
  {
   "cell_type": "code",
   "execution_count": 19,
   "metadata": {},
   "outputs": [
    {
     "data": {
      "text/html": [
       "<div>\n",
       "<style scoped>\n",
       "    .dataframe tbody tr th:only-of-type {\n",
       "        vertical-align: middle;\n",
       "    }\n",
       "\n",
       "    .dataframe tbody tr th {\n",
       "        vertical-align: top;\n",
       "    }\n",
       "\n",
       "    .dataframe thead th {\n",
       "        text-align: right;\n",
       "    }\n",
       "</style>\n",
       "<table border=\"1\" class=\"dataframe\">\n",
       "  <thead>\n",
       "    <tr style=\"text-align: right;\">\n",
       "      <th></th>\n",
       "      <th>genres</th>\n",
       "      <th>user_id</th>\n",
       "      <th>playtime_horas</th>\n",
       "    </tr>\n",
       "  </thead>\n",
       "  <tbody>\n",
       "    <tr>\n",
       "      <th>0</th>\n",
       "      <td>['Action', 'Sports']</td>\n",
       "      <td>-2SV-vuLB-Kg</td>\n",
       "      <td>0.000000</td>\n",
       "    </tr>\n",
       "    <tr>\n",
       "      <th>1</th>\n",
       "      <td>['Action', 'Sports']</td>\n",
       "      <td>-Mad-</td>\n",
       "      <td>0.100000</td>\n",
       "    </tr>\n",
       "    <tr>\n",
       "      <th>2</th>\n",
       "      <td>['Action', 'Sports']</td>\n",
       "      <td>-PRoSlayeR-</td>\n",
       "      <td>0.000000</td>\n",
       "    </tr>\n",
       "    <tr>\n",
       "      <th>3</th>\n",
       "      <td>['Action', 'Sports']</td>\n",
       "      <td>-SEVEN-</td>\n",
       "      <td>0.000000</td>\n",
       "    </tr>\n",
       "    <tr>\n",
       "      <th>4</th>\n",
       "      <td>['Action', 'Sports']</td>\n",
       "      <td>0071945</td>\n",
       "      <td>0.550000</td>\n",
       "    </tr>\n",
       "    <tr>\n",
       "      <th>...</th>\n",
       "      <td>...</td>\n",
       "      <td>...</td>\n",
       "      <td>...</td>\n",
       "    </tr>\n",
       "    <tr>\n",
       "      <th>2032499</th>\n",
       "      <td>nan</td>\n",
       "      <td>zwanzigdrei</td>\n",
       "      <td>8.533333</td>\n",
       "    </tr>\n",
       "    <tr>\n",
       "      <th>2032500</th>\n",
       "      <td>nan</td>\n",
       "      <td>zynxgameth</td>\n",
       "      <td>3.083333</td>\n",
       "    </tr>\n",
       "    <tr>\n",
       "      <th>2032501</th>\n",
       "      <td>nan</td>\n",
       "      <td>zyxwvutsrqponm</td>\n",
       "      <td>0.000000</td>\n",
       "    </tr>\n",
       "    <tr>\n",
       "      <th>2032502</th>\n",
       "      <td>nan</td>\n",
       "      <td>zzeee</td>\n",
       "      <td>0.016667</td>\n",
       "    </tr>\n",
       "    <tr>\n",
       "      <th>2032503</th>\n",
       "      <td>nan</td>\n",
       "      <td>zzzmidmiss</td>\n",
       "      <td>0.633333</td>\n",
       "    </tr>\n",
       "  </tbody>\n",
       "</table>\n",
       "<p>2032504 rows × 3 columns</p>\n",
       "</div>"
      ],
      "text/plain": [
       "                       genres         user_id  playtime_horas\n",
       "0        ['Action', 'Sports']    -2SV-vuLB-Kg        0.000000\n",
       "1        ['Action', 'Sports']           -Mad-        0.100000\n",
       "2        ['Action', 'Sports']     -PRoSlayeR-        0.000000\n",
       "3        ['Action', 'Sports']         -SEVEN-        0.000000\n",
       "4        ['Action', 'Sports']         0071945        0.550000\n",
       "...                       ...             ...             ...\n",
       "2032499                   nan     zwanzigdrei        8.533333\n",
       "2032500                   nan      zynxgameth        3.083333\n",
       "2032501                   nan  zyxwvutsrqponm        0.000000\n",
       "2032502                   nan           zzeee        0.016667\n",
       "2032503                   nan      zzzmidmiss        0.633333\n",
       "\n",
       "[2032504 rows x 3 columns]"
      ]
     },
     "execution_count": 19,
     "metadata": {},
     "output_type": "execute_result"
    }
   ],
   "source": [
    "# Agrupamos por user y sumamos el tiempo de juego\n",
    "genre_group = df_playtime_genre.groupby(['genres', 'user_id'])['playtime_forever'].sum().reset_index()\n",
    "# Transformamos la columna 'playtime_forever' a horas\n",
    "genre_group['playtime_horas'] = genre_group['playtime_forever']/60\n",
    "# Borramos la columna en minutos\n",
    "genre_group = genre_group.drop('playtime_forever', axis=1)\n",
    "genre_group"
   ]
  },
  {
   "cell_type": "code",
   "execution_count": 20,
   "metadata": {},
   "outputs": [
    {
     "name": "stdout",
     "output_type": "stream",
     "text": [
      "Antes de limpiar\n"
     ]
    },
    {
     "data": {
      "text/plain": [
       "0          6.0\n",
       "1          0.0\n",
       "2          7.0\n",
       "3          0.0\n",
       "4          0.0\n",
       "          ... \n",
       "5170009    0.0\n",
       "5170010    0.0\n",
       "5170011    3.0\n",
       "5170012    4.0\n",
       "5170013    3.0\n",
       "Name: playtime_forever, Length: 5094105, dtype: float64"
      ]
     },
     "execution_count": 20,
     "metadata": {},
     "output_type": "execute_result"
    }
   ],
   "source": [
    "# mostramos un playtime_forever de ejemplo\n",
    "print(\"Antes de limpiar\")\n",
    "df_users_items['playtime_forever']"
   ]
  },
  {
   "cell_type": "code",
   "execution_count": 21,
   "metadata": {},
   "outputs": [
    {
     "name": "stdout",
     "output_type": "stream",
     "text": [
      "Despues de limpiar\n"
     ]
    },
    {
     "data": {
      "text/plain": [
       "5102762    24.550000\n",
       "3210346    17.383333\n",
       "1240048     5.266667\n",
       "3573096     2.816667\n",
       "5069171     8.816667\n",
       "Name: playtime_forever, dtype: float64"
      ]
     },
     "execution_count": 21,
     "metadata": {},
     "output_type": "execute_result"
    }
   ],
   "source": [
    "#borramos donde no haya tiempo de juego\n",
    "df_users_items = df_users_items[df_users_items['playtime_forever'] != 0]\n",
    "#Convertimos los minutos a horas\n",
    "df_users_items['playtime_forever'] = df_users_items['playtime_forever'] / 60\n",
    "df_users_items['playtime_forever'].fillna(0, inplace=True)\n",
    "# mostramos un playtime_forever de ejemplo\n",
    "print(\"Despues de limpiar\")\n",
    "df_users_items['playtime_forever'].sample(5)"
   ]
  },
  {
   "cell_type": "code",
   "execution_count": 22,
   "metadata": {},
   "outputs": [
    {
     "name": "stdout",
     "output_type": "stream",
     "text": [
      "\n",
      "========================================\n",
      " Resumen del DataFrame 'df_users_items': \n",
      "\n",
      "========================================\n",
      "Dimensiones:  (3246375, 5)\n",
      "            columna  no_nulos  %_no_nulos  nulos  %_nulos       tipo_dato\n",
      "0           user_id   3246375       100.0      0      0.0  string[python]\n",
      "1       items_count   3246375       100.0      0      0.0           int64\n",
      "2           item_id   3246375       100.0      0      0.0          object\n",
      "3         item_name   3246375       100.0      0      0.0          object\n",
      "4  playtime_forever   3246375       100.0      0      0.0         float64\n"
     ]
    },
    {
     "data": {
      "image/png": "[encoded data removed]",
      "text/plain": [
       "<Figure size 800x600 with 1 Axes>"
      ]
     },
     "metadata": {},
     "output_type": "display_data"
    }
   ],
   "source": [
    "data_type_check_EDA(df_users_items)"
   ]
  },
  {
   "cell_type": "markdown",
   "metadata": {},
   "source": [
    "#### **📤 LOAD**\n",
    "Guardamos los cambios y exportamos df_items_users parquet"
   ]
  },
  {
   "cell_type": "code",
   "execution_count": 23,
   "metadata": {},
   "outputs": [
    {
     "name": "stdout",
     "output_type": "stream",
     "text": [
      "Se guardó el archivo ..\\0 Dataset\\1.2_users_items_LISTO.parquet\n"
     ]
    }
   ],
   "source": [
    "#Guardamos los cambios en parquet\n",
    "table = pa.Table.from_pandas(df_users_items)\n",
    "ruta_parquet = os.path.join('..', '0 Dataset', '1.2_users_items_LISTO.parquet')\n",
    "df_users_items.to_parquet(ruta_parquet)\n",
    "print(f'Se guardó el archivo {ruta_parquet}')"
   ]
  },
  {
   "cell_type": "markdown",
   "metadata": {},
   "source": [
    "Desarrollamos la funcion"
   ]
  },
  {
   "cell_type": "code",
   "execution_count": 24,
   "metadata": {},
   "outputs": [],
   "source": [
    "     #pendiente"
   ]
  },
  {
   "cell_type": "markdown",
   "metadata": {},
   "source": [
    "Probamos la funcion"
   ]
  },
  {
   "cell_type": "code",
   "execution_count": null,
   "metadata": {},
   "outputs": [],
   "source": [
    "     #pendiente     "
   ]
  },
  {
   "cell_type": "markdown",
   "metadata": {},
   "source": [
    "___\n"
   ]
  },
  {
   "cell_type": "markdown",
   "metadata": {},
   "source": [
    "## 4🌐`best_developer_year(año : int*)`:\n",
    "\n",
    "___\n"
   ]
  },
  {
   "cell_type": "markdown",
   "metadata": {},
   "source": [
    "\n",
    "### Usuario con más horas jugadas para el género dado y acumulación de horas jugadas por año de lanzamiento.\n",
    "\n",
    "Ejemplo de retorno: \n",
    "`\n",
    "{\"Usuario con más horas jugadas para Género X\" : us213ndjss09sdf,\n",
    "\t\t\t     \"Horas jugadas\":[{Año: 2013, Horas: 203}, {Año: 2012, Horas: 100}, {Año: 2011, Horas: 23}]}`\n"
   ]
  },
  {
   "cell_type": "markdown",
   "metadata": {},
   "source": [
    "___"
   ]
  }
 ],
 "metadata": {
  "kernelspec": {
   "display_name": "venv",
   "language": "python",
   "name": "python3"
  },
  "language_info": {
   "codemirror_mode": {
    "name": "ipython",
    "version": 3
   },
   "file_extension": ".py",
   "mimetype": "text/x-python",
   "name": "python",
   "nbconvert_exporter": "python",
   "pygments_lexer": "ipython3",
   "version": "3.10.11"
  }
 },
 "nbformat": 4,
 "nbformat_minor": 2
}
