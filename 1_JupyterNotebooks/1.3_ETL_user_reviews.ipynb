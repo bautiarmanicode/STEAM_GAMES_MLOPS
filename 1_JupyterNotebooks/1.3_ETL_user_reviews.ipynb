{
 "cells": [
  {
   "cell_type": "markdown",
   "metadata": {},
   "source": [
    "## 🛠️ **ETL (Extract, Transform, Load)**\n",
    "### **📂Procesamos el 3er archivo: `user_reviews.json.gz`**\n"
   ]
  },
  {
   "cell_type": "markdown",
   "metadata": {},
   "source": [
    "- 🗑️ Eliminado `reviews_funny` , `reviews_last_edited `\n",
    "- `reviews_posted:`\n",
    "  - Extraemos de las fechas el año en formato YYYY\n",
    "  - Cambiamos de string a int\n",
    "- 🗃️ `reviews`: Desanidado: era una lista de diccionarios"
   ]
  },
  {
   "cell_type": "markdown",
   "metadata": {},
   "source": [
    "#### **Importamos las librerías que vamos a usar**\n"
   ]
  },
  {
   "cell_type": "code",
   "execution_count": 1,
   "metadata": {},
   "outputs": [
    {
     "name": "stderr",
     "output_type": "stream",
     "text": [
      "[nltk_data] Downloading package vader_lexicon to C:\\Users\\El\n",
      "[nltk_data]     Bauto\\AppData\\Roaming\\nltk_data...\n",
      "[nltk_data]   Package vader_lexicon is already up-to-date!\n"
     ]
    }
   ],
   "source": [
    "import pandas as pd  # Pandas se utiliza para el manejo y análisis de datos tabulares\n",
    "import pyarrow as pa  # PyArrow se utiliza para trabajar con formatos de datos columnares y eficientes como Parquet\n",
    "import pyarrow.parquet as pq  # Importamos Parquet\n",
    "import nltk\n",
    "nltk.download('vader_lexicon')\n",
    "\n",
    "import ast  # AST (Abstract Syntax Trees) se utiliza para interpretar expresiones Python\n",
    "import gzip\n",
    "import json  # JSON se utiliza para trabajar con datos en formato JSON\n",
    "import os  # OS proporciona funciones para interactuar con el sistema operativo\n",
    "import time\n",
    "import warnings  # Warnings se utiliza para gestionar advertencias y filtrarlas si es necesario\n",
    "warnings.filterwarnings(\"ignore\")\n",
    "from data_utils import data_type_check, duplicados_columna\n",
    "# Autoreload se utiliza para recargar automáticamente los módulos al realizar cambios\n",
    "%load_ext autoreload\n",
    "%autoreload 2"
   ]
  },
  {
   "cell_type": "markdown",
   "metadata": {},
   "source": [
    "#### **Descomprimimos todos los archivos gz** "
   ]
  },
  {
   "cell_type": "code",
   "execution_count": 2,
   "metadata": {},
   "outputs": [
    {
     "name": "stdout",
     "output_type": "stream",
     "text": [
      "Archivo descomprimido: ../0 Dataset/user_reviews.json\n"
     ]
    }
   ],
   "source": [
    "# Obtenemos el tiempo de inicio de todo este ipynb \n",
    "start_time = time.time()\n",
    "\n",
    "def descomprimir_archivos_gz(archivos_gz, carpeta_destino):\n",
    "    for archivo_gz in archivos_gz:\n",
    "        with gzip.open(archivo_gz, 'rb') as f_in:\n",
    "            contenido = f_in.read()\n",
    "            archivo_destino = os.path.join(carpeta_destino, os.path.splitext(os.path.basename(archivo_gz))[0])\n",
    "            with open(archivo_destino, 'wb') as f_out:\n",
    "                f_out.write(contenido)\n",
    "        print(f'Archivo descomprimido: {archivo_destino}')\n",
    "\n",
    "# Ejemplo de uso con una lista de archivos gz\n",
    "archivo_gz_a_descomprimir = ['../0 Dataset/user_reviews.json.gz']\n",
    "carpeta_destino = '../0 Dataset/'\n",
    "\n",
    "descomprimir_archivos_gz(archivo_gz_a_descomprimir, carpeta_destino)\n"
   ]
  },
  {
   "cell_type": "markdown",
   "metadata": {},
   "source": [
    "#### 📦 **EXTRACT**\n",
    "- Tomamos los datos del archivo JSON, transformamos en un DataFrame y realizamos una primera observación de su contenido."
   ]
  },
  {
   "cell_type": "code",
   "execution_count": 3,
   "metadata": {},
   "outputs": [
    {
     "data": {
      "text/html": [
       "<div>\n",
       "<style scoped>\n",
       "    .dataframe tbody tr th:only-of-type {\n",
       "        vertical-align: middle;\n",
       "    }\n",
       "\n",
       "    .dataframe tbody tr th {\n",
       "        vertical-align: top;\n",
       "    }\n",
       "\n",
       "    .dataframe thead th {\n",
       "        text-align: right;\n",
       "    }\n",
       "</style>\n",
       "<table border=\"1\" class=\"dataframe\">\n",
       "  <thead>\n",
       "    <tr style=\"text-align: right;\">\n",
       "      <th></th>\n",
       "      <th>user_id</th>\n",
       "      <th>user_url</th>\n",
       "      <th>reviews</th>\n",
       "    </tr>\n",
       "  </thead>\n",
       "  <tbody>\n",
       "    <tr>\n",
       "      <th>19390</th>\n",
       "      <td>moowaffles</td>\n",
       "      <td>http://steamcommunity.com/id/moowaffles</td>\n",
       "      <td>[{'funny': '', 'posted': 'Posted July 17, 2015...</td>\n",
       "    </tr>\n",
       "    <tr>\n",
       "      <th>18019</th>\n",
       "      <td>webo2456</td>\n",
       "      <td>http://steamcommunity.com/id/webo2456</td>\n",
       "      <td>[{'funny': '5 people found this review funny',...</td>\n",
       "    </tr>\n",
       "  </tbody>\n",
       "</table>\n",
       "</div>"
      ],
      "text/plain": [
       "          user_id                                 user_url  \\\n",
       "19390  moowaffles  http://steamcommunity.com/id/moowaffles   \n",
       "18019    webo2456    http://steamcommunity.com/id/webo2456   \n",
       "\n",
       "                                                 reviews  \n",
       "19390  [{'funny': '', 'posted': 'Posted July 17, 2015...  \n",
       "18019  [{'funny': '5 people found this review funny',...  "
      ]
     },
     "execution_count": 3,
     "metadata": {},
     "output_type": "execute_result"
    }
   ],
   "source": [
    "#Creamos una lista vacía llamada \"rows\" donde almacenaremos los datos del archivo JSON.\n",
    "rows = []\n",
    "#Abrir el archivo \"user_reviews.json/australian_user_reviews.json\" con la codificación MacRoman.\n",
    "with open(\"../0 Dataset/user_reviews.json\",\"r\", encoding='utf-8') as f:\n",
    "    # Leer cada línea del archivo.\n",
    "    for line in f.readlines():\n",
    "        # Utilizar \"ast.literal_eval\" para convertir cada línea en un diccionario de Python\n",
    "        # y agregarlo a la lista \"rows\".\n",
    "        rows.append(ast.literal_eval(line))\n",
    "\n",
    "#Crear un DataFrame de Pandas a partir de la lista de diccionarios \"rows\".\n",
    "df_user_reviews = pd.DataFrame(rows)\n",
    "#Veamos unos registros al asar\n",
    "df_user_reviews.sample(2)"
   ]
  },
  {
   "cell_type": "code",
   "execution_count": 4,
   "metadata": {},
   "outputs": [
    {
     "name": "stdout",
     "output_type": "stream",
     "text": [
      "\n",
      "========================================\n",
      " Resumen del dataframe:\n",
      "\n",
      "========================================\n",
      "Dimensiones:  (25799, 3)\n",
      "    columna  %_no_nulos  %_nulos  total_nulos tipo_dato\n",
      "0   user_id       100.0      0.0            0    object\n",
      "1  user_url       100.0      0.0            0    object\n",
      "2   reviews       100.0      0.0            0    object\n"
     ]
    }
   ],
   "source": [
    "# Usando una funcion personalizada vemos las variables categóricas, numéricas, dimensiones del dataframe, nulos, tipos de datos   \n",
    "df_info = data_type_check(df_user_reviews)"
   ]
  },
  {
   "cell_type": "markdown",
   "metadata": {},
   "source": [
    "### 🔁 **TRANSFORM**"
   ]
  },
  {
   "cell_type": "markdown",
   "metadata": {},
   "source": [
    "#### user_id"
   ]
  },
  {
   "cell_type": "markdown",
   "metadata": {},
   "source": [
    "Verificamos los duplicados en user_id"
   ]
  },
  {
   "cell_type": "code",
   "execution_count": 5,
   "metadata": {},
   "outputs": [
    {
     "data": {
      "text/html": [
       "<div>\n",
       "<style scoped>\n",
       "    .dataframe tbody tr th:only-of-type {\n",
       "        vertical-align: middle;\n",
       "    }\n",
       "\n",
       "    .dataframe tbody tr th {\n",
       "        vertical-align: top;\n",
       "    }\n",
       "\n",
       "    .dataframe thead th {\n",
       "        text-align: right;\n",
       "    }\n",
       "</style>\n",
       "<table border=\"1\" class=\"dataframe\">\n",
       "  <thead>\n",
       "    <tr style=\"text-align: right;\">\n",
       "      <th></th>\n",
       "      <th>user_id</th>\n",
       "      <th>user_url</th>\n",
       "      <th>reviews</th>\n",
       "    </tr>\n",
       "  </thead>\n",
       "  <tbody>\n",
       "    <tr>\n",
       "      <th>12888</th>\n",
       "      <td>05041129</td>\n",
       "      <td>http://steamcommunity.com/id/05041129</td>\n",
       "      <td>[{'funny': '', 'posted': 'Posted May 18, 2015....</td>\n",
       "    </tr>\n",
       "    <tr>\n",
       "      <th>5250</th>\n",
       "      <td>05041129</td>\n",
       "      <td>http://steamcommunity.com/id/05041129</td>\n",
       "      <td>[{'funny': '', 'posted': 'Posted May 18, 2015....</td>\n",
       "    </tr>\n",
       "    <tr>\n",
       "      <th>3133</th>\n",
       "      <td>111222333444555666888</td>\n",
       "      <td>http://steamcommunity.com/id/11122233344455566...</td>\n",
       "      <td>[{'funny': '', 'posted': 'Posted December 22, ...</td>\n",
       "    </tr>\n",
       "    <tr>\n",
       "      <th>3134</th>\n",
       "      <td>111222333444555666888</td>\n",
       "      <td>http://steamcommunity.com/id/11122233344455566...</td>\n",
       "      <td>[{'funny': '', 'posted': 'Posted December 22, ...</td>\n",
       "    </tr>\n",
       "    <tr>\n",
       "      <th>4139</th>\n",
       "      <td>29123</td>\n",
       "      <td>http://steamcommunity.com/id/29123</td>\n",
       "      <td>[{'funny': '', 'posted': 'Posted March 26.', '...</td>\n",
       "    </tr>\n",
       "    <tr>\n",
       "      <th>...</th>\n",
       "      <td>...</td>\n",
       "      <td>...</td>\n",
       "      <td>...</td>\n",
       "    </tr>\n",
       "    <tr>\n",
       "      <th>2721</th>\n",
       "      <td>xXAussieRockXx</td>\n",
       "      <td>http://steamcommunity.com/id/xXAussieRockXx</td>\n",
       "      <td>[{'funny': '', 'posted': 'Posted July 17, 2015...</td>\n",
       "    </tr>\n",
       "    <tr>\n",
       "      <th>2680</th>\n",
       "      <td>yolofaceguy</td>\n",
       "      <td>http://steamcommunity.com/id/yolofaceguy</td>\n",
       "      <td>[{'funny': '', 'posted': 'Posted October 31, 2...</td>\n",
       "    </tr>\n",
       "    <tr>\n",
       "      <th>17916</th>\n",
       "      <td>yolofaceguy</td>\n",
       "      <td>http://steamcommunity.com/id/yolofaceguy</td>\n",
       "      <td>[{'funny': '', 'posted': 'Posted October 31, 2...</td>\n",
       "    </tr>\n",
       "    <tr>\n",
       "      <th>5855</th>\n",
       "      <td>zeroblade</td>\n",
       "      <td>http://steamcommunity.com/id/zeroblade</td>\n",
       "      <td>[{'funny': '', 'posted': 'Posted November 30, ...</td>\n",
       "    </tr>\n",
       "    <tr>\n",
       "      <th>13975</th>\n",
       "      <td>zeroblade</td>\n",
       "      <td>http://steamcommunity.com/id/zeroblade</td>\n",
       "      <td>[{'funny': '', 'posted': 'Posted November 30, ...</td>\n",
       "    </tr>\n",
       "  </tbody>\n",
       "</table>\n",
       "<p>623 rows × 3 columns</p>\n",
       "</div>"
      ],
      "text/plain": [
       "                     user_id  \\\n",
       "12888               05041129   \n",
       "5250                05041129   \n",
       "3133   111222333444555666888   \n",
       "3134   111222333444555666888   \n",
       "4139                   29123   \n",
       "...                      ...   \n",
       "2721          xXAussieRockXx   \n",
       "2680             yolofaceguy   \n",
       "17916            yolofaceguy   \n",
       "5855               zeroblade   \n",
       "13975              zeroblade   \n",
       "\n",
       "                                                user_url  \\\n",
       "12888              http://steamcommunity.com/id/05041129   \n",
       "5250               http://steamcommunity.com/id/05041129   \n",
       "3133   http://steamcommunity.com/id/11122233344455566...   \n",
       "3134   http://steamcommunity.com/id/11122233344455566...   \n",
       "4139                  http://steamcommunity.com/id/29123   \n",
       "...                                                  ...   \n",
       "2721         http://steamcommunity.com/id/xXAussieRockXx   \n",
       "2680            http://steamcommunity.com/id/yolofaceguy   \n",
       "17916           http://steamcommunity.com/id/yolofaceguy   \n",
       "5855              http://steamcommunity.com/id/zeroblade   \n",
       "13975             http://steamcommunity.com/id/zeroblade   \n",
       "\n",
       "                                                 reviews  \n",
       "12888  [{'funny': '', 'posted': 'Posted May 18, 2015....  \n",
       "5250   [{'funny': '', 'posted': 'Posted May 18, 2015....  \n",
       "3133   [{'funny': '', 'posted': 'Posted December 22, ...  \n",
       "3134   [{'funny': '', 'posted': 'Posted December 22, ...  \n",
       "4139   [{'funny': '', 'posted': 'Posted March 26.', '...  \n",
       "...                                                  ...  \n",
       "2721   [{'funny': '', 'posted': 'Posted July 17, 2015...  \n",
       "2680   [{'funny': '', 'posted': 'Posted October 31, 2...  \n",
       "17916  [{'funny': '', 'posted': 'Posted October 31, 2...  \n",
       "5855   [{'funny': '', 'posted': 'Posted November 30, ...  \n",
       "13975  [{'funny': '', 'posted': 'Posted November 30, ...  \n",
       "\n",
       "[623 rows x 3 columns]"
      ]
     },
     "execution_count": 5,
     "metadata": {},
     "output_type": "execute_result"
    }
   ],
   "source": [
    "duplicados = duplicados_columna(df_user_reviews, 'user_id')\n",
    "duplicados"
   ]
  },
  {
   "cell_type": "markdown",
   "metadata": {},
   "source": [
    "623 filas duplicadas en user_id.\n",
    "\n",
    "Es necesario verificar si la información de los comentarios anidados en la columna 'review' también se duplica, o si solo se duplica el 'user_id' porque un mismo usuario realizó varios comentarios."
   ]
  },
  {
   "cell_type": "code",
   "execution_count": 6,
   "metadata": {},
   "outputs": [
    {
     "name": "stdout",
     "output_type": "stream",
     "text": [
      "from the creaters of the walking dead, i present to you, the wolf among us. a twisted an unhappy place where crimes are made in the town of the fables. Ecperience one of the most mind-bending, jaw-dropping twists you will see in all of gaming history...well, some of gaming history. SPOILERS: i really liked how bigby turns into his true form to fight all the bloody marys... its just like when neo fought all the agent smiths in the matrix. what i didnt really like is when i chose to lock the crooked man up it glitches my game and i start from the near begining where bigby fought the crooked man's crew, exept the guy who runs a strip club wasnt there. so i was really confused. but anyway i really recommend this game if you want twists and ♥♥♥♥ed up scenes.\n",
      "this game is awesome,this game is ♥♥♥♥ed up and this game is so sad and depressing. if you want these types of games i would strongly reccomend youto buy it. its worth your money\n",
      "----------------------------------------\n",
      "from the creaters of the walking dead, i present to you, the wolf among us. a twisted an unhappy place where crimes are made in the town of the fables. Ecperience one of the most mind-bending, jaw-dropping twists you will see in all of gaming history...well, some of gaming history. SPOILERS: i really liked how bigby turns into his true form to fight all the bloody marys... its just like when neo fought all the agent smiths in the matrix. what i didnt really like is when i chose to lock the crooked man up it glitches my game and i start from the near begining where bigby fought the crooked man's crew, exept the guy who runs a strip club wasnt there. so i was really confused. but anyway i really recommend this game if you want twists and ♥♥♥♥ed up scenes.\n",
      "this game is awesome,this game is ♥♥♥♥ed up and this game is so sad and depressing. if you want these types of games i would strongly reccomend youto buy it. its worth your money\n",
      "----------------------------------------\n"
     ]
    }
   ],
   "source": [
    "#Eliminamos duplicados en reseñas, dejando la primer reseña\n",
    "df_user_reviews = df_user_reviews.drop_duplicates(subset='user_id', keep='first')\n",
    "\n",
    "# Se revisa un usuario de ejemplo\n",
    "user_id = 'yolofaceguy'\n",
    "user_reviews = duplicados[duplicados['user_id'] == user_id]['reviews']\n",
    "\n",
    "for review_list in user_reviews:\n",
    "    for review in review_list:\n",
    "        print(review['review'])\n",
    "    print('-' * 40)"
   ]
  },
  {
   "cell_type": "markdown",
   "metadata": {},
   "source": [
    "Se observa que los comentarios son iguales, por lo que se eliminan los duplicados, manteniendo el primer registro"
   ]
  },
  {
   "cell_type": "code",
   "execution_count": 7,
   "metadata": {},
   "outputs": [
    {
     "data": {
      "text/plain": [
       "'No hay duplicados'"
      ]
     },
     "execution_count": 7,
     "metadata": {},
     "output_type": "execute_result"
    }
   ],
   "source": [
    "df_user_reviews = df_user_reviews.drop_duplicates(subset='user_id', keep='first')\n",
    "duplicados_columna(df_user_reviews, 'user_id')"
   ]
  },
  {
   "cell_type": "markdown",
   "metadata": {},
   "source": [
    "#### **Reviews**: \n",
    "Se encuentra anidada, es una lista de diccionarios. \n",
    "Generamos una columna por cada diccionario para posteriormente hacer un registro por cada diccionario.\n"
   ]
  },
  {
   "cell_type": "code",
   "execution_count": 8,
   "metadata": {},
   "outputs": [
    {
     "data": {
      "text/html": [
       "<div>\n",
       "<style scoped>\n",
       "    .dataframe tbody tr th:only-of-type {\n",
       "        vertical-align: middle;\n",
       "    }\n",
       "\n",
       "    .dataframe tbody tr th {\n",
       "        vertical-align: top;\n",
       "    }\n",
       "\n",
       "    .dataframe thead th {\n",
       "        text-align: right;\n",
       "    }\n",
       "</style>\n",
       "<table border=\"1\" class=\"dataframe\">\n",
       "  <thead>\n",
       "    <tr style=\"text-align: right;\">\n",
       "      <th></th>\n",
       "      <th>user_id</th>\n",
       "      <th>user_url</th>\n",
       "      <th>reviews_funny</th>\n",
       "      <th>reviews_posted</th>\n",
       "      <th>reviews_last_edited</th>\n",
       "      <th>reviews_item_id</th>\n",
       "      <th>reviews_helpful</th>\n",
       "      <th>reviews_recommend</th>\n",
       "      <th>reviews_review</th>\n",
       "    </tr>\n",
       "  </thead>\n",
       "  <tbody>\n",
       "    <tr>\n",
       "      <th>0</th>\n",
       "      <td>76561197970982479</td>\n",
       "      <td>http://steamcommunity.com/profiles/76561197970...</td>\n",
       "      <td></td>\n",
       "      <td>Posted November 5, 2011.</td>\n",
       "      <td></td>\n",
       "      <td>1250</td>\n",
       "      <td>No ratings yet</td>\n",
       "      <td>True</td>\n",
       "      <td>Simple yet with great replayability. In my opi...</td>\n",
       "    </tr>\n",
       "    <tr>\n",
       "      <th>1</th>\n",
       "      <td>js41637</td>\n",
       "      <td>http://steamcommunity.com/id/js41637</td>\n",
       "      <td></td>\n",
       "      <td>Posted June 24, 2014.</td>\n",
       "      <td></td>\n",
       "      <td>251610</td>\n",
       "      <td>15 of 20 people (75%) found this review helpful</td>\n",
       "      <td>True</td>\n",
       "      <td>I know what you think when you see this title ...</td>\n",
       "    </tr>\n",
       "    <tr>\n",
       "      <th>2</th>\n",
       "      <td>evcentric</td>\n",
       "      <td>http://steamcommunity.com/id/evcentric</td>\n",
       "      <td></td>\n",
       "      <td>Posted February 3.</td>\n",
       "      <td></td>\n",
       "      <td>248820</td>\n",
       "      <td>No ratings yet</td>\n",
       "      <td>True</td>\n",
       "      <td>A suitably punishing roguelike platformer.  Wi...</td>\n",
       "    </tr>\n",
       "    <tr>\n",
       "      <th>3</th>\n",
       "      <td>doctr</td>\n",
       "      <td>http://steamcommunity.com/id/doctr</td>\n",
       "      <td></td>\n",
       "      <td>Posted October 14, 2013.</td>\n",
       "      <td></td>\n",
       "      <td>250320</td>\n",
       "      <td>2 of 2 people (100%) found this review helpful</td>\n",
       "      <td>True</td>\n",
       "      <td>This game... is so fun. The fight sequences ha...</td>\n",
       "    </tr>\n",
       "    <tr>\n",
       "      <th>4</th>\n",
       "      <td>maplemage</td>\n",
       "      <td>http://steamcommunity.com/id/maplemage</td>\n",
       "      <td>3 people found this review funny</td>\n",
       "      <td>Posted April 15, 2014.</td>\n",
       "      <td></td>\n",
       "      <td>211420</td>\n",
       "      <td>35 of 43 people (81%) found this review helpful</td>\n",
       "      <td>True</td>\n",
       "      <td>Git gud</td>\n",
       "    </tr>\n",
       "  </tbody>\n",
       "</table>\n",
       "</div>"
      ],
      "text/plain": [
       "             user_id                                           user_url  \\\n",
       "0  76561197970982479  http://steamcommunity.com/profiles/76561197970...   \n",
       "1            js41637               http://steamcommunity.com/id/js41637   \n",
       "2          evcentric             http://steamcommunity.com/id/evcentric   \n",
       "3              doctr                 http://steamcommunity.com/id/doctr   \n",
       "4          maplemage             http://steamcommunity.com/id/maplemage   \n",
       "\n",
       "                      reviews_funny            reviews_posted  \\\n",
       "0                                    Posted November 5, 2011.   \n",
       "1                                       Posted June 24, 2014.   \n",
       "2                                          Posted February 3.   \n",
       "3                                    Posted October 14, 2013.   \n",
       "4  3 people found this review funny    Posted April 15, 2014.   \n",
       "\n",
       "  reviews_last_edited reviews_item_id  \\\n",
       "0                                1250   \n",
       "1                              251610   \n",
       "2                              248820   \n",
       "3                              250320   \n",
       "4                              211420   \n",
       "\n",
       "                                   reviews_helpful  reviews_recommend  \\\n",
       "0                                   No ratings yet               True   \n",
       "1  15 of 20 people (75%) found this review helpful               True   \n",
       "2                                   No ratings yet               True   \n",
       "3   2 of 2 people (100%) found this review helpful               True   \n",
       "4  35 of 43 people (81%) found this review helpful               True   \n",
       "\n",
       "                                      reviews_review  \n",
       "0  Simple yet with great replayability. In my opi...  \n",
       "1  I know what you think when you see this title ...  \n",
       "2  A suitably punishing roguelike platformer.  Wi...  \n",
       "3  This game... is so fun. The fight sequences ha...  \n",
       "4                                            Git gud  "
      ]
     },
     "execution_count": 8,
     "metadata": {},
     "output_type": "execute_result"
    }
   ],
   "source": [
    "#1_Se transforma a columnas cada elemento de las listas:\n",
    "\n",
    "df_reviews2 = pd.json_normalize(df_user_reviews['reviews'])\n",
    "# Se agrega el 'user_id' y 'user_url' a las columnas separadas \n",
    "df_reviews2 = pd.concat([df_user_reviews[['user_id', 'user_url']], df_reviews2], axis=1)\n",
    "\n",
    "\n",
    "#2_Generamos un registro por cada diccionario, manteniendo en cada caso el usuario que lo genera\n",
    "\n",
    "# Se utiliza pd.melt para transformar las columnas en filas conservando el 'user_id' y 'user_url'\n",
    "df_reviews2 = pd.melt(df_reviews2, id_vars=['user_id', 'user_url'], \n",
    "    value_vars=list(range(9)),\n",
    "    value_name='reviews')\n",
    "\n",
    "#3_Para evitar registros None luego de hacer pd.melt: \n",
    "\n",
    "# Se eliminan las filas con valor None\n",
    "df_reviews2 = df_reviews2.dropna()\n",
    "# Se verifica que solo queden el 'user_id' con la cantidad de diccionarios que le corresponde\n",
    "df_reviews2[df_reviews2['user_id']=='js41637']\n",
    "\n",
    "#4_ Convertimos cada diccionario en columna: \n",
    "\n",
    "# Se separan por columnas cada una de las claves de reviews\n",
    "df_user_reviews = df_reviews2['reviews'].apply(pd.Series, dtype='object')\n",
    "df_user_reviews = df_user_reviews.add_prefix('reviews_')\n",
    "\n",
    "#5_ Para no perder user_id y user_url los concatenamos al df\n",
    "df_user_reviews = pd.concat([df_reviews2[['user_id', 'user_url']], df_user_reviews], axis=1)\n",
    "df_user_reviews.head()"
   ]
  },
  {
   "cell_type": "markdown",
   "metadata": {},
   "source": [
    "Vemos que hay valores faltantes y revisamos si son nulos o son espacios\n"
   ]
  },
  {
   "cell_type": "code",
   "execution_count": 9,
   "metadata": {},
   "outputs": [
    {
     "data": {
      "text/plain": [
       "''"
      ]
     },
     "execution_count": 9,
     "metadata": {},
     "output_type": "execute_result"
    }
   ],
   "source": [
    "df_user_reviews['reviews_last_edited'][0]"
   ]
  },
  {
   "cell_type": "markdown",
   "metadata": {},
   "source": [
    "Reemplazamos esos espacios por valores nulos"
   ]
  },
  {
   "cell_type": "code",
   "execution_count": 10,
   "metadata": {},
   "outputs": [
    {
     "name": "stdout",
     "output_type": "stream",
     "text": [
      "\n",
      "========================================\n",
      " Resumen del dataframe:\n",
      "\n",
      "========================================\n",
      "Dimensiones:  (57397, 9)\n",
      "               columna  %_no_nulos  %_nulos  total_nulos tipo_dato\n",
      "0              user_id      100.00     0.00            0    object\n",
      "1             user_url      100.00     0.00            0    object\n",
      "2        reviews_funny       13.76    86.24        49498    object\n",
      "3       reviews_posted      100.00     0.00            0    object\n",
      "4  reviews_last_edited       10.28    89.72        51499    object\n",
      "5      reviews_item_id      100.00     0.00            0    object\n",
      "6      reviews_helpful      100.00     0.00            0    object\n",
      "7    reviews_recommend      100.00     0.00            0      bool\n",
      "8       reviews_review       99.95     0.05           30    object\n",
      " \n",
      "Vemos que todavia hay faltantes:\n",
      "     reviews_funny:                   %86.24\n",
      "     reviews_last_edited              %89.72\n",
      "Procedemos a eliminarlos:\n"
     ]
    }
   ],
   "source": [
    "df_user_reviews.replace('', None, inplace=True)\n",
    "data_type_check(df_user_reviews) \n",
    "print(\" \")\n",
    "print(\"Vemos que todavia hay faltantes:\")\n",
    "print(\"     reviews_funny:                   %86.24\")\n",
    "print(\"     reviews_last_edited              %89.72\")\n",
    "print(\"Procedemos a eliminarlos:\")"
   ]
  },
  {
   "cell_type": "markdown",
   "metadata": {},
   "source": [
    "Eliminamos los faltantes en reviews_funny y reviews_last_edited y cambiamos el tipo de dato."
   ]
  },
  {
   "cell_type": "code",
   "execution_count": 11,
   "metadata": {},
   "outputs": [
    {
     "name": "stdout",
     "output_type": "stream",
     "text": [
      "Observamos las columnas que nos quedaron: \n",
      " \n",
      "\n",
      "========================================\n",
      " Resumen del dataframe:\n",
      "\n",
      "========================================\n",
      "Dimensiones:  (57397, 7)\n",
      "             columna  %_no_nulos  %_nulos  total_nulos tipo_dato\n",
      "0            user_id      100.00     0.00            0    object\n",
      "1           user_url      100.00     0.00            0    object\n",
      "2     reviews_posted      100.00     0.00            0    object\n",
      "3    reviews_item_id      100.00     0.00            0    object\n",
      "4    reviews_helpful      100.00     0.00            0    object\n",
      "5  reviews_recommend      100.00     0.00            0      bool\n",
      "6     reviews_review       99.95     0.05           30    object\n"
     ]
    }
   ],
   "source": [
    "df_user_reviews = df_user_reviews.drop(columns=['reviews_funny', 'reviews_last_edited'])\n",
    "\n",
    "print(\"Observamos las columnas que nos quedaron: \")\n",
    "print(\" \")\n",
    "data_type_check(df_user_reviews) "
   ]
  },
  {
   "cell_type": "markdown",
   "metadata": {},
   "source": [
    "### reviews_item_id"
   ]
  },
  {
   "cell_type": "code",
   "execution_count": 12,
   "metadata": {},
   "outputs": [],
   "source": [
    "#Cambiamos el nombre reviews_item_id por reviews_item_id\n",
    "df_user_reviews['reviews_item_id'] = df_user_reviews['reviews_item_id'].astype('int64')"
   ]
  },
  {
   "cell_type": "markdown",
   "metadata": {},
   "source": [
    "#### 📤 **LOAD**"
   ]
  },
  {
   "cell_type": "code",
   "execution_count": 13,
   "metadata": {},
   "outputs": [
    {
     "name": "stdout",
     "output_type": "stream",
     "text": [
      "Se guardó el archivo ..\\0 Dataset\\1.3_user_review_LISTO.parquet\n"
     ]
    }
   ],
   "source": [
    "#Guardamos los cambios en parquet\n",
    "table = pa.Table.from_pandas(df_user_reviews)\n",
    "ruta_parquet = os.path.join('..', '0 Dataset', '1.3_user_review_LISTO.parquet')\n",
    "df_user_reviews.to_parquet(ruta_parquet)\n",
    "print(f'Se guardó el archivo {ruta_parquet}')"
   ]
  },
  {
   "cell_type": "code",
   "execution_count": 14,
   "metadata": {},
   "outputs": [
    {
     "name": "stdout",
     "output_type": "stream",
     "text": [
      "\n",
      "========================================\n",
      " Resumen del dataframe:\n",
      "\n",
      "========================================\n",
      "Dimensiones:  (57397, 7)\n",
      "             columna  %_no_nulos  %_nulos  total_nulos tipo_dato\n",
      "0            user_id      100.00     0.00            0    object\n",
      "1           user_url      100.00     0.00            0    object\n",
      "2     reviews_posted      100.00     0.00            0    object\n",
      "3    reviews_item_id      100.00     0.00            0     int64\n",
      "4    reviews_helpful      100.00     0.00            0    object\n",
      "5  reviews_recommend      100.00     0.00            0      bool\n",
      "6     reviews_review       99.95     0.05           30    object\n"
     ]
    }
   ],
   "source": [
    "#Dejamos informacion de muestra acerca de ese archivo\n",
    "data_type_check(df_user_reviews)"
   ]
  },
  {
   "cell_type": "markdown",
   "metadata": {},
   "source": [
    "## **Terminamos**\n",
    "  - Eliminamos el archivo descomprimidos que ahora tenemos limpio y liviano en formato parquet"
   ]
  },
  {
   "cell_type": "code",
   "execution_count": 15,
   "metadata": {},
   "outputs": [
    {
     "name": "stdout",
     "output_type": "stream",
     "text": [
      "Archivo eliminado: ../0 Dataset/user_reviews.json\n"
     ]
    }
   ],
   "source": [
    "# Lista de archivos descomprimidos\n",
    "gz_descomprimido = [\n",
    "    '../0 Dataset/user_reviews.json'\n",
    "    ]\n",
    "\n",
    "# Eliminar archivos descomprimidos\n",
    "for archivo_json in gz_descomprimido:\n",
    "    try:\n",
    "        os.remove(archivo_json)\n",
    "        print(f'Archivo eliminado: {archivo_json}')\n",
    "    except FileNotFoundError:\n",
    "        print(f'Archivo no encontrado: {archivo_json}')"
   ]
  },
  {
   "cell_type": "markdown",
   "metadata": {},
   "source": [
    "Observamos el tiempo de ejecucion total de nuestro proceso ETL 🔥"
   ]
  },
  {
   "cell_type": "code",
   "execution_count": 16,
   "metadata": {},
   "outputs": [
    {
     "name": "stdout",
     "output_type": "stream",
     "text": [
      "Tiempo total de ejecución de este ipynb: 0.52 minutos\n"
     ]
    }
   ],
   "source": [
    "# Obtener el tiempo de finalización\n",
    "end_time = time.time()\n",
    "# Calcular el tiempo total de ejecución\n",
    "total_time = end_time - start_time\n",
    "# Convertir a minutos y redondear a 2 decimales\n",
    "total_time_minutes = round(total_time / 60, 2)\n",
    "# Imprimir resultados\n",
    "print(f\"Tiempo total de ejecución de este ipynb: {total_time_minutes} minutos\")"
   ]
  }
 ],
 "metadata": {
  "kernelspec": {
   "display_name": "env",
   "language": "python",
   "name": "python3"
  },
  "language_info": {
   "codemirror_mode": {
    "name": "ipython",
    "version": 3
   },
   "file_extension": ".py",
   "mimetype": "text/x-python",
   "name": "python",
   "nbconvert_exporter": "python",
   "pygments_lexer": "ipython3",
   "version": "3.10.11"
  }
 },
 "nbformat": 4,
 "nbformat_minor": 2
}
